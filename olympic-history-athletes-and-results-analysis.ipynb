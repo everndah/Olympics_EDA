{
 "cells": [
  {
   "cell_type": "markdown",
   "metadata": {},
   "source": [
    "# 1986-2016 Olympics Exploratory Data Analysis\n",
    "\n",
    "\n",
    "* One cannot ignore the importance of sports data analytics in this present age of technology.For that reason, and with the **_2020 Summer Olympics_** just around the corner, starting from July 23, 2021  this __1986-2016 Olympics Exploratory Data Analysis__ will be useful to prepare teams for upcoming olympics,for coaches,athletes who can use  it to improve performance,for sports analytics departments and sports journalists.The analysis asks questions about questions about the participation and performance , different nations, sports and events. \n",
    "\n",
    "> * It should be noted  that  olympics are always held after every  **FOUR YEARS**\n",
    "> * Due to the Covid-19 pandemic, the __Tokyo 2020 Olympics games__ that were to be held last year(2020) were moved to this year.\n",
    "\n",
    "\n",
    "* The source of this data is Kaggle and to get the Csv file for this data __[Click Here](http://www.kaggle.com/heesoo37/120-years-of-olympic-history-athletes-and-results)__\n",
    "* From this data set, we are going  to limit our analyses to a few areas and look at olympics Data form when it was first held in 1896 to 2016. \n",
    "> * See  **_Data Analysis and Visualization section_** for areas that we will analyse\n",
    "\n",
    "#### Terms Definition;\n",
    " 1. **Olympian** is a competitor in the olympic games.\n",
    " 1. **Octogenerian** is a person who is between 80 to 89 years old"
   ]
  },
  {
   "cell_type": "code",
   "execution_count": 1,
   "metadata": {},
   "outputs": [],
   "source": [
    "!pip install jovian --upgrade --quiet"
   ]
  },
  {
   "cell_type": "code",
   "execution_count": 2,
   "metadata": {},
   "outputs": [],
   "source": [
    "import jovian\n"
   ]
  },
  {
   "cell_type": "code",
   "execution_count": null,
   "metadata": {},
   "outputs": [
    {
     "data": {
      "application/javascript": [
       "window.require && require([\"base/js/namespace\"],function(Jupyter){Jupyter.notebook.save_checkpoint()})"
      ],
      "text/plain": [
       "<IPython.core.display.Javascript object>"
      ]
     },
     "metadata": {},
     "output_type": "display_data"
    }
   ],
   "source": [
    "# Execute this to save new versions of the notebook\n",
    "jovian.commit(project=\"olympic-history-athletes-and-results-analysis\")"
   ]
  },
  {
   "cell_type": "code",
   "execution_count": 4,
   "metadata": {
    "scrolled": false
   },
   "outputs": [
    {
     "name": "stdout",
     "output_type": "stream",
     "text": [
      "Please provide your Kaggle credentials to download this dataset. Learn more: http://bit.ly/kaggle-creds\n",
      "Your Kaggle username: everndah\n",
      "Your Kaggle Key: ········\n"
     ]
    },
    {
     "name": "stderr",
     "output_type": "stream",
     "text": [
      "100%|██████████| 5.43M/5.43M [00:00<00:00, 44.9MB/s]"
     ]
    },
    {
     "name": "stdout",
     "output_type": "stream",
     "text": [
      "Downloading 120-years-of-olympic-history-athletes-and-results.zip to ./120-years-of-olympic-history-athletes-and-results\n",
      "\n"
     ]
    },
    {
     "name": "stderr",
     "output_type": "stream",
     "text": [
      "\n"
     ]
    }
   ],
   "source": [
    "#Download Olympics Data from Kaggle\n",
    "! pip install opendatasets --upgrade --quiet \n",
    "import opendatasets as od\n",
    "download_url = 'https://www.kaggle.com/heesoo37/120-years-of-olympic-history-athletes-and-results'\n",
    "od.download(download_url)"
   ]
  },
  {
   "cell_type": "code",
   "execution_count": 5,
   "metadata": {},
   "outputs": [],
   "source": [
    "data_filename = \"./120-years-of-olympic-history-athletes-and-results/athlete_events.csv\""
   ]
  },
  {
   "cell_type": "code",
   "execution_count": 6,
   "metadata": {},
   "outputs": [],
   "source": [
    "#import numpy,pandas,matplotlib and seaborn\n",
    "import numpy as np\n",
    "import pandas as pd\n",
    "import matplotlib.pyplot as plt\n",
    "import  seaborn as sns\n",
    "%matplotlib inline"
   ]
  },
  {
   "cell_type": "markdown",
   "metadata": {},
   "source": [
    "## Data Preparation and Cleaning\n",
    "\n",
    "#### _In this section we are going to:_\n",
    " \n",
    "- Load the file using Pandas\n",
    "- Look at some information about the data & the columns\n",
    "- Fix any missing or incorrect values\n",
    "- Drop columns that  we will not  use\n",
    "\n"
   ]
  },
  {
   "cell_type": "code",
   "execution_count": 7,
   "metadata": {},
   "outputs": [],
   "source": [
    "#Upload File\n",
    "olympics_df = pd.read_csv(data_filename)"
   ]
  },
  {
   "cell_type": "code",
   "execution_count": 8,
   "metadata": {
    "scrolled": true
   },
   "outputs": [
    {
     "data": {
      "text/html": [
       "<div>\n",
       "<style scoped>\n",
       "    .dataframe tbody tr th:only-of-type {\n",
       "        vertical-align: middle;\n",
       "    }\n",
       "\n",
       "    .dataframe tbody tr th {\n",
       "        vertical-align: top;\n",
       "    }\n",
       "\n",
       "    .dataframe thead th {\n",
       "        text-align: right;\n",
       "    }\n",
       "</style>\n",
       "<table border=\"1\" class=\"dataframe\">\n",
       "  <thead>\n",
       "    <tr style=\"text-align: right;\">\n",
       "      <th></th>\n",
       "      <th>ID</th>\n",
       "      <th>Name</th>\n",
       "      <th>Sex</th>\n",
       "      <th>Age</th>\n",
       "      <th>Height</th>\n",
       "      <th>Weight</th>\n",
       "      <th>Team</th>\n",
       "      <th>NOC</th>\n",
       "      <th>Games</th>\n",
       "      <th>Year</th>\n",
       "      <th>Season</th>\n",
       "      <th>City</th>\n",
       "      <th>Sport</th>\n",
       "      <th>Event</th>\n",
       "      <th>Medal</th>\n",
       "    </tr>\n",
       "  </thead>\n",
       "  <tbody>\n",
       "    <tr>\n",
       "      <th>0</th>\n",
       "      <td>1</td>\n",
       "      <td>A Dijiang</td>\n",
       "      <td>M</td>\n",
       "      <td>24.0</td>\n",
       "      <td>180.0</td>\n",
       "      <td>80.0</td>\n",
       "      <td>China</td>\n",
       "      <td>CHN</td>\n",
       "      <td>1992 Summer</td>\n",
       "      <td>1992</td>\n",
       "      <td>Summer</td>\n",
       "      <td>Barcelona</td>\n",
       "      <td>Basketball</td>\n",
       "      <td>Basketball Men's Basketball</td>\n",
       "      <td>NaN</td>\n",
       "    </tr>\n",
       "    <tr>\n",
       "      <th>1</th>\n",
       "      <td>2</td>\n",
       "      <td>A Lamusi</td>\n",
       "      <td>M</td>\n",
       "      <td>23.0</td>\n",
       "      <td>170.0</td>\n",
       "      <td>60.0</td>\n",
       "      <td>China</td>\n",
       "      <td>CHN</td>\n",
       "      <td>2012 Summer</td>\n",
       "      <td>2012</td>\n",
       "      <td>Summer</td>\n",
       "      <td>London</td>\n",
       "      <td>Judo</td>\n",
       "      <td>Judo Men's Extra-Lightweight</td>\n",
       "      <td>NaN</td>\n",
       "    </tr>\n",
       "    <tr>\n",
       "      <th>2</th>\n",
       "      <td>3</td>\n",
       "      <td>Gunnar Nielsen Aaby</td>\n",
       "      <td>M</td>\n",
       "      <td>24.0</td>\n",
       "      <td>NaN</td>\n",
       "      <td>NaN</td>\n",
       "      <td>Denmark</td>\n",
       "      <td>DEN</td>\n",
       "      <td>1920 Summer</td>\n",
       "      <td>1920</td>\n",
       "      <td>Summer</td>\n",
       "      <td>Antwerpen</td>\n",
       "      <td>Football</td>\n",
       "      <td>Football Men's Football</td>\n",
       "      <td>NaN</td>\n",
       "    </tr>\n",
       "    <tr>\n",
       "      <th>3</th>\n",
       "      <td>4</td>\n",
       "      <td>Edgar Lindenau Aabye</td>\n",
       "      <td>M</td>\n",
       "      <td>34.0</td>\n",
       "      <td>NaN</td>\n",
       "      <td>NaN</td>\n",
       "      <td>Denmark/Sweden</td>\n",
       "      <td>DEN</td>\n",
       "      <td>1900 Summer</td>\n",
       "      <td>1900</td>\n",
       "      <td>Summer</td>\n",
       "      <td>Paris</td>\n",
       "      <td>Tug-Of-War</td>\n",
       "      <td>Tug-Of-War Men's Tug-Of-War</td>\n",
       "      <td>Gold</td>\n",
       "    </tr>\n",
       "    <tr>\n",
       "      <th>4</th>\n",
       "      <td>5</td>\n",
       "      <td>Christine Jacoba Aaftink</td>\n",
       "      <td>F</td>\n",
       "      <td>21.0</td>\n",
       "      <td>185.0</td>\n",
       "      <td>82.0</td>\n",
       "      <td>Netherlands</td>\n",
       "      <td>NED</td>\n",
       "      <td>1988 Winter</td>\n",
       "      <td>1988</td>\n",
       "      <td>Winter</td>\n",
       "      <td>Calgary</td>\n",
       "      <td>Speed Skating</td>\n",
       "      <td>Speed Skating Women's 500 metres</td>\n",
       "      <td>NaN</td>\n",
       "    </tr>\n",
       "    <tr>\n",
       "      <th>...</th>\n",
       "      <td>...</td>\n",
       "      <td>...</td>\n",
       "      <td>...</td>\n",
       "      <td>...</td>\n",
       "      <td>...</td>\n",
       "      <td>...</td>\n",
       "      <td>...</td>\n",
       "      <td>...</td>\n",
       "      <td>...</td>\n",
       "      <td>...</td>\n",
       "      <td>...</td>\n",
       "      <td>...</td>\n",
       "      <td>...</td>\n",
       "      <td>...</td>\n",
       "      <td>...</td>\n",
       "    </tr>\n",
       "    <tr>\n",
       "      <th>271111</th>\n",
       "      <td>135569</td>\n",
       "      <td>Andrzej ya</td>\n",
       "      <td>M</td>\n",
       "      <td>29.0</td>\n",
       "      <td>179.0</td>\n",
       "      <td>89.0</td>\n",
       "      <td>Poland-1</td>\n",
       "      <td>POL</td>\n",
       "      <td>1976 Winter</td>\n",
       "      <td>1976</td>\n",
       "      <td>Winter</td>\n",
       "      <td>Innsbruck</td>\n",
       "      <td>Luge</td>\n",
       "      <td>Luge Mixed (Men)'s Doubles</td>\n",
       "      <td>NaN</td>\n",
       "    </tr>\n",
       "    <tr>\n",
       "      <th>271112</th>\n",
       "      <td>135570</td>\n",
       "      <td>Piotr ya</td>\n",
       "      <td>M</td>\n",
       "      <td>27.0</td>\n",
       "      <td>176.0</td>\n",
       "      <td>59.0</td>\n",
       "      <td>Poland</td>\n",
       "      <td>POL</td>\n",
       "      <td>2014 Winter</td>\n",
       "      <td>2014</td>\n",
       "      <td>Winter</td>\n",
       "      <td>Sochi</td>\n",
       "      <td>Ski Jumping</td>\n",
       "      <td>Ski Jumping Men's Large Hill, Individual</td>\n",
       "      <td>NaN</td>\n",
       "    </tr>\n",
       "    <tr>\n",
       "      <th>271113</th>\n",
       "      <td>135570</td>\n",
       "      <td>Piotr ya</td>\n",
       "      <td>M</td>\n",
       "      <td>27.0</td>\n",
       "      <td>176.0</td>\n",
       "      <td>59.0</td>\n",
       "      <td>Poland</td>\n",
       "      <td>POL</td>\n",
       "      <td>2014 Winter</td>\n",
       "      <td>2014</td>\n",
       "      <td>Winter</td>\n",
       "      <td>Sochi</td>\n",
       "      <td>Ski Jumping</td>\n",
       "      <td>Ski Jumping Men's Large Hill, Team</td>\n",
       "      <td>NaN</td>\n",
       "    </tr>\n",
       "    <tr>\n",
       "      <th>271114</th>\n",
       "      <td>135571</td>\n",
       "      <td>Tomasz Ireneusz ya</td>\n",
       "      <td>M</td>\n",
       "      <td>30.0</td>\n",
       "      <td>185.0</td>\n",
       "      <td>96.0</td>\n",
       "      <td>Poland</td>\n",
       "      <td>POL</td>\n",
       "      <td>1998 Winter</td>\n",
       "      <td>1998</td>\n",
       "      <td>Winter</td>\n",
       "      <td>Nagano</td>\n",
       "      <td>Bobsleigh</td>\n",
       "      <td>Bobsleigh Men's Four</td>\n",
       "      <td>NaN</td>\n",
       "    </tr>\n",
       "    <tr>\n",
       "      <th>271115</th>\n",
       "      <td>135571</td>\n",
       "      <td>Tomasz Ireneusz ya</td>\n",
       "      <td>M</td>\n",
       "      <td>34.0</td>\n",
       "      <td>185.0</td>\n",
       "      <td>96.0</td>\n",
       "      <td>Poland</td>\n",
       "      <td>POL</td>\n",
       "      <td>2002 Winter</td>\n",
       "      <td>2002</td>\n",
       "      <td>Winter</td>\n",
       "      <td>Salt Lake City</td>\n",
       "      <td>Bobsleigh</td>\n",
       "      <td>Bobsleigh Men's Four</td>\n",
       "      <td>NaN</td>\n",
       "    </tr>\n",
       "  </tbody>\n",
       "</table>\n",
       "<p>271116 rows × 15 columns</p>\n",
       "</div>"
      ],
      "text/plain": [
       "            ID                      Name Sex   Age  Height  Weight  \\\n",
       "0            1                 A Dijiang   M  24.0   180.0    80.0   \n",
       "1            2                  A Lamusi   M  23.0   170.0    60.0   \n",
       "2            3       Gunnar Nielsen Aaby   M  24.0     NaN     NaN   \n",
       "3            4      Edgar Lindenau Aabye   M  34.0     NaN     NaN   \n",
       "4            5  Christine Jacoba Aaftink   F  21.0   185.0    82.0   \n",
       "...        ...                       ...  ..   ...     ...     ...   \n",
       "271111  135569                Andrzej ya   M  29.0   179.0    89.0   \n",
       "271112  135570                  Piotr ya   M  27.0   176.0    59.0   \n",
       "271113  135570                  Piotr ya   M  27.0   176.0    59.0   \n",
       "271114  135571        Tomasz Ireneusz ya   M  30.0   185.0    96.0   \n",
       "271115  135571        Tomasz Ireneusz ya   M  34.0   185.0    96.0   \n",
       "\n",
       "                  Team  NOC        Games  Year  Season            City  \\\n",
       "0                China  CHN  1992 Summer  1992  Summer       Barcelona   \n",
       "1                China  CHN  2012 Summer  2012  Summer          London   \n",
       "2              Denmark  DEN  1920 Summer  1920  Summer       Antwerpen   \n",
       "3       Denmark/Sweden  DEN  1900 Summer  1900  Summer           Paris   \n",
       "4          Netherlands  NED  1988 Winter  1988  Winter         Calgary   \n",
       "...                ...  ...          ...   ...     ...             ...   \n",
       "271111        Poland-1  POL  1976 Winter  1976  Winter       Innsbruck   \n",
       "271112          Poland  POL  2014 Winter  2014  Winter           Sochi   \n",
       "271113          Poland  POL  2014 Winter  2014  Winter           Sochi   \n",
       "271114          Poland  POL  1998 Winter  1998  Winter          Nagano   \n",
       "271115          Poland  POL  2002 Winter  2002  Winter  Salt Lake City   \n",
       "\n",
       "                Sport                                     Event Medal  \n",
       "0          Basketball               Basketball Men's Basketball   NaN  \n",
       "1                Judo              Judo Men's Extra-Lightweight   NaN  \n",
       "2            Football                   Football Men's Football   NaN  \n",
       "3          Tug-Of-War               Tug-Of-War Men's Tug-Of-War  Gold  \n",
       "4       Speed Skating          Speed Skating Women's 500 metres   NaN  \n",
       "...               ...                                       ...   ...  \n",
       "271111           Luge                Luge Mixed (Men)'s Doubles   NaN  \n",
       "271112    Ski Jumping  Ski Jumping Men's Large Hill, Individual   NaN  \n",
       "271113    Ski Jumping        Ski Jumping Men's Large Hill, Team   NaN  \n",
       "271114      Bobsleigh                      Bobsleigh Men's Four   NaN  \n",
       "271115      Bobsleigh                      Bobsleigh Men's Four   NaN  \n",
       "\n",
       "[271116 rows x 15 columns]"
      ]
     },
     "execution_count": 8,
     "metadata": {},
     "output_type": "execute_result"
    }
   ],
   "source": [
    "olympics_df #Olympics Data Frame"
   ]
  },
  {
   "cell_type": "code",
   "execution_count": 9,
   "metadata": {
    "scrolled": true
   },
   "outputs": [
    {
     "data": {
      "text/plain": [
       "4066740"
      ]
     },
     "execution_count": 9,
     "metadata": {},
     "output_type": "execute_result"
    }
   ],
   "source": [
    "olympics_df.size #Check the number  of elements  in olympics_df"
   ]
  },
  {
   "cell_type": "code",
   "execution_count": 10,
   "metadata": {
    "scrolled": true
   },
   "outputs": [
    {
     "data": {
      "text/plain": [
       "(271116, 15)"
      ]
     },
     "execution_count": 10,
     "metadata": {},
     "output_type": "execute_result"
    }
   ],
   "source": [
    "olympics_df.shape #Check the dimentionality of olympics_df"
   ]
  },
  {
   "cell_type": "code",
   "execution_count": 11,
   "metadata": {
    "scrolled": true
   },
   "outputs": [
    {
     "data": {
      "text/html": [
       "<div>\n",
       "<style scoped>\n",
       "    .dataframe tbody tr th:only-of-type {\n",
       "        vertical-align: middle;\n",
       "    }\n",
       "\n",
       "    .dataframe tbody tr th {\n",
       "        vertical-align: top;\n",
       "    }\n",
       "\n",
       "    .dataframe thead th {\n",
       "        text-align: right;\n",
       "    }\n",
       "</style>\n",
       "<table border=\"1\" class=\"dataframe\">\n",
       "  <thead>\n",
       "    <tr style=\"text-align: right;\">\n",
       "      <th></th>\n",
       "      <th>ID</th>\n",
       "      <th>Age</th>\n",
       "      <th>Height</th>\n",
       "      <th>Weight</th>\n",
       "      <th>Year</th>\n",
       "    </tr>\n",
       "  </thead>\n",
       "  <tbody>\n",
       "    <tr>\n",
       "      <th>count</th>\n",
       "      <td>271116.000000</td>\n",
       "      <td>261642.000000</td>\n",
       "      <td>210945.000000</td>\n",
       "      <td>208241.000000</td>\n",
       "      <td>271116.000000</td>\n",
       "    </tr>\n",
       "    <tr>\n",
       "      <th>mean</th>\n",
       "      <td>68248.954396</td>\n",
       "      <td>25.556898</td>\n",
       "      <td>175.338970</td>\n",
       "      <td>70.702393</td>\n",
       "      <td>1978.378480</td>\n",
       "    </tr>\n",
       "    <tr>\n",
       "      <th>std</th>\n",
       "      <td>39022.286345</td>\n",
       "      <td>6.393561</td>\n",
       "      <td>10.518462</td>\n",
       "      <td>14.348020</td>\n",
       "      <td>29.877632</td>\n",
       "    </tr>\n",
       "    <tr>\n",
       "      <th>min</th>\n",
       "      <td>1.000000</td>\n",
       "      <td>10.000000</td>\n",
       "      <td>127.000000</td>\n",
       "      <td>25.000000</td>\n",
       "      <td>1896.000000</td>\n",
       "    </tr>\n",
       "    <tr>\n",
       "      <th>25%</th>\n",
       "      <td>34643.000000</td>\n",
       "      <td>21.000000</td>\n",
       "      <td>168.000000</td>\n",
       "      <td>60.000000</td>\n",
       "      <td>1960.000000</td>\n",
       "    </tr>\n",
       "    <tr>\n",
       "      <th>50%</th>\n",
       "      <td>68205.000000</td>\n",
       "      <td>24.000000</td>\n",
       "      <td>175.000000</td>\n",
       "      <td>70.000000</td>\n",
       "      <td>1988.000000</td>\n",
       "    </tr>\n",
       "    <tr>\n",
       "      <th>75%</th>\n",
       "      <td>102097.250000</td>\n",
       "      <td>28.000000</td>\n",
       "      <td>183.000000</td>\n",
       "      <td>79.000000</td>\n",
       "      <td>2002.000000</td>\n",
       "    </tr>\n",
       "    <tr>\n",
       "      <th>max</th>\n",
       "      <td>135571.000000</td>\n",
       "      <td>97.000000</td>\n",
       "      <td>226.000000</td>\n",
       "      <td>214.000000</td>\n",
       "      <td>2016.000000</td>\n",
       "    </tr>\n",
       "  </tbody>\n",
       "</table>\n",
       "</div>"
      ],
      "text/plain": [
       "                  ID            Age         Height         Weight  \\\n",
       "count  271116.000000  261642.000000  210945.000000  208241.000000   \n",
       "mean    68248.954396      25.556898     175.338970      70.702393   \n",
       "std     39022.286345       6.393561      10.518462      14.348020   \n",
       "min         1.000000      10.000000     127.000000      25.000000   \n",
       "25%     34643.000000      21.000000     168.000000      60.000000   \n",
       "50%     68205.000000      24.000000     175.000000      70.000000   \n",
       "75%    102097.250000      28.000000     183.000000      79.000000   \n",
       "max    135571.000000      97.000000     226.000000     214.000000   \n",
       "\n",
       "                Year  \n",
       "count  271116.000000  \n",
       "mean     1978.378480  \n",
       "std        29.877632  \n",
       "min      1896.000000  \n",
       "25%      1960.000000  \n",
       "50%      1988.000000  \n",
       "75%      2002.000000  \n",
       "max      2016.000000  "
      ]
     },
     "execution_count": 11,
     "metadata": {},
     "output_type": "execute_result"
    }
   ],
   "source": [
    "olympics_df.describe()#Desrcibe each column"
   ]
  },
  {
   "cell_type": "code",
   "execution_count": 12,
   "metadata": {
    "scrolled": true
   },
   "outputs": [
    {
     "name": "stdout",
     "output_type": "stream",
     "text": [
      "<class 'pandas.core.frame.DataFrame'>\n",
      "RangeIndex: 271116 entries, 0 to 271115\n",
      "Data columns (total 15 columns):\n",
      " #   Column  Non-Null Count   Dtype  \n",
      "---  ------  --------------   -----  \n",
      " 0   ID      271116 non-null  int64  \n",
      " 1   Name    271116 non-null  object \n",
      " 2   Sex     271116 non-null  object \n",
      " 3   Age     261642 non-null  float64\n",
      " 4   Height  210945 non-null  float64\n",
      " 5   Weight  208241 non-null  float64\n",
      " 6   Team    271116 non-null  object \n",
      " 7   NOC     271116 non-null  object \n",
      " 8   Games   271116 non-null  object \n",
      " 9   Year    271116 non-null  int64  \n",
      " 10  Season  271116 non-null  object \n",
      " 11  City    271116 non-null  object \n",
      " 12  Sport   271116 non-null  object \n",
      " 13  Event   271116 non-null  object \n",
      " 14  Medal   39783 non-null   object \n",
      "dtypes: float64(3), int64(2), object(10)\n",
      "memory usage: 31.0+ MB\n"
     ]
    }
   ],
   "source": [
    "olympics_df.info()# Summary of the olympics data frame "
   ]
  },
  {
   "cell_type": "code",
   "execution_count": 13,
   "metadata": {},
   "outputs": [],
   "source": [
    "#Percentage of missing values\n",
    "missing_values = olympics_df.isna().sum()/len(olympics_df)"
   ]
  },
  {
   "cell_type": "code",
   "execution_count": 14,
   "metadata": {},
   "outputs": [
    {
     "data": {
      "text/plain": [
       "ID        0.000000\n",
       "Name      0.000000\n",
       "Sex       0.000000\n",
       "Age       0.034944\n",
       "Height    0.221938\n",
       "Weight    0.231912\n",
       "Team      0.000000\n",
       "NOC       0.000000\n",
       "Games     0.000000\n",
       "Year      0.000000\n",
       "Season    0.000000\n",
       "City      0.000000\n",
       "Sport     0.000000\n",
       "Event     0.000000\n",
       "Medal     0.853262\n",
       "dtype: float64"
      ]
     },
     "execution_count": 14,
     "metadata": {},
     "output_type": "execute_result"
    }
   ],
   "source": [
    "missing_values "
   ]
  },
  {
   "cell_type": "code",
   "execution_count": 15,
   "metadata": {
    "scrolled": true
   },
   "outputs": [
    {
     "data": {
      "image/png": "[encoded data removed]",
      "text/plain": [
       "<Figure size 432x288 with 1 Axes>"
      ]
     },
     "metadata": {
      "needs_background": "light"
     },
     "output_type": "display_data"
    }
   ],
   "source": [
    "# Plot Columns with  missing values\n",
    "missing_values[missing_values != 0].plot(kind = \"barh\");"
   ]
  },
  {
   "cell_type": "markdown",
   "metadata": {},
   "source": [
    "- The Medals column has many missing values beacause not all athletes got medals.However, we will not drop it since it will be essential for detereming the performnces.We will fill the missing(na) values."
   ]
  },
  {
   "cell_type": "code",
   "execution_count": 16,
   "metadata": {
    "scrolled": true
   },
   "outputs": [],
   "source": [
    "#Fill Medals na values\n",
    "olympics_df.Medal.fillna(\"No Medal\",inplace = True)"
   ]
  },
  {
   "cell_type": "code",
   "execution_count": 17,
   "metadata": {},
   "outputs": [
    {
     "data": {
      "text/html": [
       "<div>\n",
       "<style scoped>\n",
       "    .dataframe tbody tr th:only-of-type {\n",
       "        vertical-align: middle;\n",
       "    }\n",
       "\n",
       "    .dataframe tbody tr th {\n",
       "        vertical-align: top;\n",
       "    }\n",
       "\n",
       "    .dataframe thead th {\n",
       "        text-align: right;\n",
       "    }\n",
       "</style>\n",
       "<table border=\"1\" class=\"dataframe\">\n",
       "  <thead>\n",
       "    <tr style=\"text-align: right;\">\n",
       "      <th></th>\n",
       "      <th>ID</th>\n",
       "      <th>Name</th>\n",
       "      <th>Sex</th>\n",
       "      <th>Age</th>\n",
       "      <th>Height</th>\n",
       "      <th>Weight</th>\n",
       "      <th>Team</th>\n",
       "      <th>NOC</th>\n",
       "      <th>Games</th>\n",
       "      <th>Year</th>\n",
       "      <th>Season</th>\n",
       "      <th>City</th>\n",
       "      <th>Sport</th>\n",
       "      <th>Event</th>\n",
       "      <th>Medal</th>\n",
       "    </tr>\n",
       "  </thead>\n",
       "  <tbody>\n",
       "    <tr>\n",
       "      <th>0</th>\n",
       "      <td>1</td>\n",
       "      <td>A Dijiang</td>\n",
       "      <td>M</td>\n",
       "      <td>24.0</td>\n",
       "      <td>180.0</td>\n",
       "      <td>80.0</td>\n",
       "      <td>China</td>\n",
       "      <td>CHN</td>\n",
       "      <td>1992 Summer</td>\n",
       "      <td>1992</td>\n",
       "      <td>Summer</td>\n",
       "      <td>Barcelona</td>\n",
       "      <td>Basketball</td>\n",
       "      <td>Basketball Men's Basketball</td>\n",
       "      <td>No Medal</td>\n",
       "    </tr>\n",
       "    <tr>\n",
       "      <th>1</th>\n",
       "      <td>2</td>\n",
       "      <td>A Lamusi</td>\n",
       "      <td>M</td>\n",
       "      <td>23.0</td>\n",
       "      <td>170.0</td>\n",
       "      <td>60.0</td>\n",
       "      <td>China</td>\n",
       "      <td>CHN</td>\n",
       "      <td>2012 Summer</td>\n",
       "      <td>2012</td>\n",
       "      <td>Summer</td>\n",
       "      <td>London</td>\n",
       "      <td>Judo</td>\n",
       "      <td>Judo Men's Extra-Lightweight</td>\n",
       "      <td>No Medal</td>\n",
       "    </tr>\n",
       "    <tr>\n",
       "      <th>2</th>\n",
       "      <td>3</td>\n",
       "      <td>Gunnar Nielsen Aaby</td>\n",
       "      <td>M</td>\n",
       "      <td>24.0</td>\n",
       "      <td>NaN</td>\n",
       "      <td>NaN</td>\n",
       "      <td>Denmark</td>\n",
       "      <td>DEN</td>\n",
       "      <td>1920 Summer</td>\n",
       "      <td>1920</td>\n",
       "      <td>Summer</td>\n",
       "      <td>Antwerpen</td>\n",
       "      <td>Football</td>\n",
       "      <td>Football Men's Football</td>\n",
       "      <td>No Medal</td>\n",
       "    </tr>\n",
       "  </tbody>\n",
       "</table>\n",
       "</div>"
      ],
      "text/plain": [
       "   ID                 Name Sex   Age  Height  Weight     Team  NOC  \\\n",
       "0   1            A Dijiang   M  24.0   180.0    80.0    China  CHN   \n",
       "1   2             A Lamusi   M  23.0   170.0    60.0    China  CHN   \n",
       "2   3  Gunnar Nielsen Aaby   M  24.0     NaN     NaN  Denmark  DEN   \n",
       "\n",
       "         Games  Year  Season       City       Sport  \\\n",
       "0  1992 Summer  1992  Summer  Barcelona  Basketball   \n",
       "1  2012 Summer  2012  Summer     London        Judo   \n",
       "2  1920 Summer  1920  Summer  Antwerpen    Football   \n",
       "\n",
       "                          Event     Medal  \n",
       "0   Basketball Men's Basketball  No Medal  \n",
       "1  Judo Men's Extra-Lightweight  No Medal  \n",
       "2       Football Men's Football  No Medal  "
      ]
     },
     "execution_count": 17,
     "metadata": {},
     "output_type": "execute_result"
    }
   ],
   "source": [
    "#Confirm if the column has been filled\n",
    "olympics_df.head(3) #View first 3  rows"
   ]
  },
  {
   "cell_type": "code",
   "execution_count": 18,
   "metadata": {},
   "outputs": [],
   "source": [
    "#Drop Atheletes ID columns\n",
    "olympics_df.drop(columns = \"ID\",inplace = True)"
   ]
  },
  {
   "cell_type": "code",
   "execution_count": 19,
   "metadata": {
    "scrolled": false
   },
   "outputs": [
    {
     "data": {
      "text/html": [
       "<div>\n",
       "<style scoped>\n",
       "    .dataframe tbody tr th:only-of-type {\n",
       "        vertical-align: middle;\n",
       "    }\n",
       "\n",
       "    .dataframe tbody tr th {\n",
       "        vertical-align: top;\n",
       "    }\n",
       "\n",
       "    .dataframe thead th {\n",
       "        text-align: right;\n",
       "    }\n",
       "</style>\n",
       "<table border=\"1\" class=\"dataframe\">\n",
       "  <thead>\n",
       "    <tr style=\"text-align: right;\">\n",
       "      <th></th>\n",
       "      <th>Name</th>\n",
       "      <th>Sex</th>\n",
       "      <th>Age</th>\n",
       "      <th>Height</th>\n",
       "      <th>Weight</th>\n",
       "      <th>Team</th>\n",
       "      <th>NOC</th>\n",
       "      <th>Games</th>\n",
       "      <th>Year</th>\n",
       "      <th>Season</th>\n",
       "      <th>City</th>\n",
       "      <th>Sport</th>\n",
       "      <th>Event</th>\n",
       "      <th>Medal</th>\n",
       "    </tr>\n",
       "  </thead>\n",
       "  <tbody>\n",
       "    <tr>\n",
       "      <th>0</th>\n",
       "      <td>A Dijiang</td>\n",
       "      <td>M</td>\n",
       "      <td>24.0</td>\n",
       "      <td>180.0</td>\n",
       "      <td>80.0</td>\n",
       "      <td>China</td>\n",
       "      <td>CHN</td>\n",
       "      <td>1992 Summer</td>\n",
       "      <td>1992</td>\n",
       "      <td>Summer</td>\n",
       "      <td>Barcelona</td>\n",
       "      <td>Basketball</td>\n",
       "      <td>Basketball Men's Basketball</td>\n",
       "      <td>No Medal</td>\n",
       "    </tr>\n",
       "    <tr>\n",
       "      <th>1</th>\n",
       "      <td>A Lamusi</td>\n",
       "      <td>M</td>\n",
       "      <td>23.0</td>\n",
       "      <td>170.0</td>\n",
       "      <td>60.0</td>\n",
       "      <td>China</td>\n",
       "      <td>CHN</td>\n",
       "      <td>2012 Summer</td>\n",
       "      <td>2012</td>\n",
       "      <td>Summer</td>\n",
       "      <td>London</td>\n",
       "      <td>Judo</td>\n",
       "      <td>Judo Men's Extra-Lightweight</td>\n",
       "      <td>No Medal</td>\n",
       "    </tr>\n",
       "  </tbody>\n",
       "</table>\n",
       "</div>"
      ],
      "text/plain": [
       "        Name Sex   Age  Height  Weight   Team  NOC        Games  Year  Season  \\\n",
       "0  A Dijiang   M  24.0   180.0    80.0  China  CHN  1992 Summer  1992  Summer   \n",
       "1   A Lamusi   M  23.0   170.0    60.0  China  CHN  2012 Summer  2012  Summer   \n",
       "\n",
       "        City       Sport                         Event     Medal  \n",
       "0  Barcelona  Basketball   Basketball Men's Basketball  No Medal  \n",
       "1     London        Judo  Judo Men's Extra-Lightweight  No Medal  "
      ]
     },
     "execution_count": 19,
     "metadata": {},
     "output_type": "execute_result"
    }
   ],
   "source": [
    "#Confirm if ID column  has  been dropped\n",
    "olympics_df.head(2) #View first 2  rows"
   ]
  },
  {
   "cell_type": "code",
   "execution_count": 20,
   "metadata": {
    "scrolled": true
   },
   "outputs": [
    {
     "data": {
      "text/html": [
       "<div>\n",
       "<style scoped>\n",
       "    .dataframe tbody tr th:only-of-type {\n",
       "        vertical-align: middle;\n",
       "    }\n",
       "\n",
       "    .dataframe tbody tr th {\n",
       "        vertical-align: top;\n",
       "    }\n",
       "\n",
       "    .dataframe thead th {\n",
       "        text-align: right;\n",
       "    }\n",
       "</style>\n",
       "<table border=\"1\" class=\"dataframe\">\n",
       "  <thead>\n",
       "    <tr style=\"text-align: right;\">\n",
       "      <th></th>\n",
       "      <th>Name</th>\n",
       "      <th>Sex</th>\n",
       "      <th>Age</th>\n",
       "      <th>Height</th>\n",
       "      <th>Weight</th>\n",
       "      <th>Team</th>\n",
       "      <th>NOC</th>\n",
       "      <th>Games</th>\n",
       "      <th>Year</th>\n",
       "      <th>Season</th>\n",
       "      <th>City</th>\n",
       "      <th>Sport</th>\n",
       "      <th>Event</th>\n",
       "      <th>Medal</th>\n",
       "    </tr>\n",
       "  </thead>\n",
       "  <tbody>\n",
       "    <tr>\n",
       "      <th>3</th>\n",
       "      <td>Edgar Lindenau Aabye</td>\n",
       "      <td>M</td>\n",
       "      <td>34.0</td>\n",
       "      <td>NaN</td>\n",
       "      <td>NaN</td>\n",
       "      <td>Denmark/Sweden</td>\n",
       "      <td>DEN</td>\n",
       "      <td>1900 Summer</td>\n",
       "      <td>1900</td>\n",
       "      <td>Summer</td>\n",
       "      <td>Paris</td>\n",
       "      <td>Tug-Of-War</td>\n",
       "      <td>Tug-Of-War Men's Tug-Of-War</td>\n",
       "      <td>Gold</td>\n",
       "    </tr>\n",
       "    <tr>\n",
       "      <th>171883</th>\n",
       "      <td>August Nilsson</td>\n",
       "      <td>M</td>\n",
       "      <td>27.0</td>\n",
       "      <td>NaN</td>\n",
       "      <td>NaN</td>\n",
       "      <td>Denmark/Sweden</td>\n",
       "      <td>SWE</td>\n",
       "      <td>1900 Summer</td>\n",
       "      <td>1900</td>\n",
       "      <td>Summer</td>\n",
       "      <td>Paris</td>\n",
       "      <td>Tug-Of-War</td>\n",
       "      <td>Tug-Of-War Men's Tug-Of-War</td>\n",
       "      <td>Gold</td>\n",
       "    </tr>\n",
       "    <tr>\n",
       "      <th>213255</th>\n",
       "      <td>Eugen Stahl Schmidt</td>\n",
       "      <td>M</td>\n",
       "      <td>38.0</td>\n",
       "      <td>NaN</td>\n",
       "      <td>NaN</td>\n",
       "      <td>Denmark/Sweden</td>\n",
       "      <td>DEN</td>\n",
       "      <td>1900 Summer</td>\n",
       "      <td>1900</td>\n",
       "      <td>Summer</td>\n",
       "      <td>Paris</td>\n",
       "      <td>Tug-Of-War</td>\n",
       "      <td>Tug-Of-War Men's Tug-Of-War</td>\n",
       "      <td>Gold</td>\n",
       "    </tr>\n",
       "    <tr>\n",
       "      <th>224416</th>\n",
       "      <td>Gustaf Fredrik Sderstrm</td>\n",
       "      <td>M</td>\n",
       "      <td>34.0</td>\n",
       "      <td>NaN</td>\n",
       "      <td>NaN</td>\n",
       "      <td>Denmark/Sweden</td>\n",
       "      <td>SWE</td>\n",
       "      <td>1900 Summer</td>\n",
       "      <td>1900</td>\n",
       "      <td>Summer</td>\n",
       "      <td>Paris</td>\n",
       "      <td>Tug-Of-War</td>\n",
       "      <td>Tug-Of-War Men's Tug-Of-War</td>\n",
       "      <td>Gold</td>\n",
       "    </tr>\n",
       "    <tr>\n",
       "      <th>227065</th>\n",
       "      <td>Karl Gustaf Vilhelm Staaf (Johansson-)</td>\n",
       "      <td>M</td>\n",
       "      <td>19.0</td>\n",
       "      <td>NaN</td>\n",
       "      <td>NaN</td>\n",
       "      <td>Denmark/Sweden</td>\n",
       "      <td>SWE</td>\n",
       "      <td>1900 Summer</td>\n",
       "      <td>1900</td>\n",
       "      <td>Summer</td>\n",
       "      <td>Paris</td>\n",
       "      <td>Tug-Of-War</td>\n",
       "      <td>Tug-Of-War Men's Tug-Of-War</td>\n",
       "      <td>Gold</td>\n",
       "    </tr>\n",
       "    <tr>\n",
       "      <th>261705</th>\n",
       "      <td>Charles Gustav Wilhelm Winckler</td>\n",
       "      <td>M</td>\n",
       "      <td>33.0</td>\n",
       "      <td>NaN</td>\n",
       "      <td>NaN</td>\n",
       "      <td>Denmark/Sweden</td>\n",
       "      <td>DEN</td>\n",
       "      <td>1900 Summer</td>\n",
       "      <td>1900</td>\n",
       "      <td>Summer</td>\n",
       "      <td>Paris</td>\n",
       "      <td>Tug-Of-War</td>\n",
       "      <td>Tug-Of-War Men's Tug-Of-War</td>\n",
       "      <td>Gold</td>\n",
       "    </tr>\n",
       "  </tbody>\n",
       "</table>\n",
       "</div>"
      ],
      "text/plain": [
       "                                          Name Sex   Age  Height  Weight  \\\n",
       "3                         Edgar Lindenau Aabye   M  34.0     NaN     NaN   \n",
       "171883                          August Nilsson   M  27.0     NaN     NaN   \n",
       "213255                     Eugen Stahl Schmidt   M  38.0     NaN     NaN   \n",
       "224416                 Gustaf Fredrik Sderstrm   M  34.0     NaN     NaN   \n",
       "227065  Karl Gustaf Vilhelm Staaf (Johansson-)   M  19.0     NaN     NaN   \n",
       "261705         Charles Gustav Wilhelm Winckler   M  33.0     NaN     NaN   \n",
       "\n",
       "                  Team  NOC        Games  Year  Season   City       Sport  \\\n",
       "3       Denmark/Sweden  DEN  1900 Summer  1900  Summer  Paris  Tug-Of-War   \n",
       "171883  Denmark/Sweden  SWE  1900 Summer  1900  Summer  Paris  Tug-Of-War   \n",
       "213255  Denmark/Sweden  DEN  1900 Summer  1900  Summer  Paris  Tug-Of-War   \n",
       "224416  Denmark/Sweden  SWE  1900 Summer  1900  Summer  Paris  Tug-Of-War   \n",
       "227065  Denmark/Sweden  SWE  1900 Summer  1900  Summer  Paris  Tug-Of-War   \n",
       "261705  Denmark/Sweden  DEN  1900 Summer  1900  Summer  Paris  Tug-Of-War   \n",
       "\n",
       "                              Event Medal  \n",
       "3       Tug-Of-War Men's Tug-Of-War  Gold  \n",
       "171883  Tug-Of-War Men's Tug-Of-War  Gold  \n",
       "213255  Tug-Of-War Men's Tug-Of-War  Gold  \n",
       "224416  Tug-Of-War Men's Tug-Of-War  Gold  \n",
       "227065  Tug-Of-War Men's Tug-Of-War  Gold  \n",
       "261705  Tug-Of-War Men's Tug-Of-War  Gold  "
      ]
     },
     "execution_count": 20,
     "metadata": {},
     "output_type": "execute_result"
    }
   ],
   "source": [
    "#Unique Denmark and Sweden Team\n",
    "\n",
    "olympics_df[olympics_df.Team == \"Denmark/Sweden\"]"
   ]
  },
  {
   "cell_type": "code",
   "execution_count": 21,
   "metadata": {},
   "outputs": [
    {
     "name": "stdout",
     "output_type": "stream",
     "text": [
      "In 1990, the Denmark and Sweden Tag of war teams partcipated as a team under the name Denmark/Sweden\n"
     ]
    }
   ],
   "source": [
    "print(\"In 1990, the Denmark and Sweden Tag of war teams partcipated as a team under the name Denmark/Sweden\")"
   ]
  },
  {
   "cell_type": "code",
   "execution_count": 22,
   "metadata": {},
   "outputs": [
    {
     "data": {
      "text/plain": [
       "Name      134732\n",
       "Sex            2\n",
       "Age           74\n",
       "Height        95\n",
       "Weight       220\n",
       "Team        1184\n",
       "NOC          230\n",
       "Games         51\n",
       "Year          35\n",
       "Season         2\n",
       "City          42\n",
       "Sport         66\n",
       "Event        765\n",
       "Medal          4\n",
       "dtype: int64"
      ]
     },
     "execution_count": 22,
     "metadata": {},
     "output_type": "execute_result"
    }
   ],
   "source": [
    "# Number of distinct Values in olympics_df\n",
    "olympics_df.nunique()"
   ]
  },
  {
   "cell_type": "markdown",
   "metadata": {},
   "source": [
    "## Exploratory Analysis and Visualization\n",
    "\n",
    "#### _In this section,the columns that we will analyse are;_\n",
    "\n",
    "*Sports*,\n",
    "*Athletes*,\n",
    "*Medals*,\n",
    "*Teams*,\n",
    "*Sex*,"
   ]
  },
  {
   "cell_type": "code",
   "execution_count": 23,
   "metadata": {
    "scrolled": true
   },
   "outputs": [
    {
     "data": {
      "text/plain": [
       "Index(['Name', 'Sex', 'Age', 'Height', 'Weight', 'Team', 'NOC', 'Games',\n",
       "       'Year', 'Season', 'City', 'Sport', 'Event', 'Medal'],\n",
       "      dtype='object')"
      ]
     },
     "execution_count": 23,
     "metadata": {},
     "output_type": "execute_result"
    }
   ],
   "source": [
    "#Check the columns lables  of the  dataframe\n",
    "olympics_df.columns"
   ]
  },
  {
   "cell_type": "code",
   "execution_count": 24,
   "metadata": {},
   "outputs": [
    {
     "data": {
      "text/plain": [
       "RangeIndex(start=0, stop=271116, step=1)"
      ]
     },
     "execution_count": 24,
     "metadata": {},
     "output_type": "execute_result"
    }
   ],
   "source": [
    "#Check olympics dataframe Index\n",
    "olympics_df.index"
   ]
  },
  {
   "cell_type": "markdown",
   "metadata": {},
   "source": [
    "> #### Below is a line plot representation of Olympians Weights based on Medals;"
   ]
  },
  {
   "cell_type": "code",
   "execution_count": 25,
   "metadata": {
    "scrolled": true
   },
   "outputs": [
    {
     "data": {
      "image/png": "[encoded data removed]",
      "text/plain": [
       "<Figure size 864x432 with 1 Axes>"
      ]
     },
     "metadata": {
      "needs_background": "light"
     },
     "output_type": "display_data"
    }
   ],
   "source": [
    "#Plot Medalists Weight\n",
    "\n",
    "plt.figure(figsize=(12,6))\n",
    "sns.lineplot(x = \"Year\",y = \"Weight\",data = olympics_df,hue = \"Medal\",style = \"Medal\",markers=True)\n",
    "\n",
    "plt.title(\"Olympics Medalists Weights\",fontsize = 14);"
   ]
  },
  {
   "cell_type": "markdown",
   "metadata": {},
   "source": [
    "* Medalists weights have been  reducing over the years"
   ]
  },
  {
   "cell_type": "markdown",
   "metadata": {},
   "source": [
    "> #### Below is a line plot representation of Olympians Age based on sex;"
   ]
  },
  {
   "cell_type": "code",
   "execution_count": 26,
   "metadata": {},
   "outputs": [
    {
     "data": {
      "image/png": "[encoded data removed]",
      "text/plain": [
       "<Figure size 864x432 with 1 Axes>"
      ]
     },
     "metadata": {
      "needs_background": "light"
     },
     "output_type": "display_data"
    }
   ],
   "source": [
    "#Plot Medalists Height\n",
    "\n",
    "plt.figure(figsize=(12,6))\n",
    "sns.lineplot(x = \"Year\",y = \"Age\",data = olympics_df,hue = \"Sex\",style = \"Sex\",markers=True,legend=\"full\")\n",
    "\n",
    "plt.title(\"Olympians Age based on Sex\",fontsize = 14);"
   ]
  },
  {
   "cell_type": "markdown",
   "metadata": {},
   "source": [
    "* Teams saw the  need  of  having younger olympians over the years.\n",
    "> In the early years of olympics, Female olympians were older than their Male counterparts,while in recent years they are  younger."
   ]
  },
  {
   "cell_type": "code",
   "execution_count": 27,
   "metadata": {
    "scrolled": true
   },
   "outputs": [
    {
     "data": {
      "text/plain": [
       "M    196594\n",
       "F     74522\n",
       "Name: Sex, dtype: int64"
      ]
     },
     "execution_count": 27,
     "metadata": {},
     "output_type": "execute_result"
    }
   ],
   "source": [
    "#Female and Male Olympians\n",
    "olympics_df.Sex.value_counts()"
   ]
  },
  {
   "cell_type": "markdown",
   "metadata": {},
   "source": [
    "> #### Below is a bargraph representation of Male and Female olympians;"
   ]
  },
  {
   "cell_type": "code",
   "execution_count": 28,
   "metadata": {
    "scrolled": true
   },
   "outputs": [
    {
     "data": {
      "image/png": "[encoded data removed]",
      "text/plain": [
       "<Figure size 432x288 with 1 Axes>"
      ]
     },
     "metadata": {
      "needs_background": "light"
     },
     "output_type": "display_data"
    }
   ],
   "source": [
    "#Bargraph representation of Male and Female olympians\n",
    "\n",
    "sex = olympics_df.Sex.value_counts().index\n",
    "No_of_Olympians = olympics_df.Sex.value_counts()\n",
    "\n",
    "sns.barplot(x = sex,y = No_of_Olympians, palette='PuRd')\n",
    "\n",
    "plt.xlabel(\"Sex\",fontsize = 14)\n",
    "plt.ylabel(\"No. of olympians\",fontsize = 14)\n",
    "plt.title(\"Male and Female Olympians\",fontsize = 14);"
   ]
  },
  {
   "cell_type": "markdown",
   "metadata": {},
   "source": [
    "* The number of Men that have participated in the  olympics games is more than half of the number of Women who have participated "
   ]
  },
  {
   "cell_type": "markdown",
   "metadata": {},
   "source": [
    "> #### Below is a line graph representation of the number of Teams that have been participating in every olympics;"
   ]
  },
  {
   "cell_type": "code",
   "execution_count": 29,
   "metadata": {},
   "outputs": [
    {
     "data": {
      "image/png": "[encoded data removed]",
      "text/plain": [
       "<Figure size 432x288 with 1 Axes>"
      ]
     },
     "metadata": {
      "needs_background": "light"
     },
     "output_type": "display_data"
    }
   ],
   "source": [
    "olympics_df.groupby(\"Year\")[\"Team\"].nunique().plot()\n",
    "\n",
    "plt.xlabel(\"Year\",fontsize = 14)\n",
    "plt.ylabel(\"No. of Teams\",fontsize = 14)\n",
    "plt.title(\"No. of Teams in every Olympic year\",fontsize = 14);"
   ]
  },
  {
   "cell_type": "markdown",
   "metadata": {},
   "source": [
    "* More teams have overtime showed an interest in pariticipating in olympic events since the  number  has  been increasing."
   ]
  },
  {
   "cell_type": "markdown",
   "metadata": {},
   "source": [
    "## Athletes\n",
    "\n",
    "* _We will now ask some questions about olympians:_"
   ]
  },
  {
   "cell_type": "markdown",
   "metadata": {},
   "source": [
    "### Q1: Which olympic year had the highest number of olympians participating?"
   ]
  },
  {
   "cell_type": "code",
   "execution_count": 30,
   "metadata": {},
   "outputs": [],
   "source": [
    "year_with_most_olympians = olympics_df.groupby(\"Year\")[\"Name\"].nunique()"
   ]
  },
  {
   "cell_type": "code",
   "execution_count": 31,
   "metadata": {
    "scrolled": true
   },
   "outputs": [
    {
     "data": {
      "text/plain": [
       "Year\n",
       "2016    11174\n",
       "1992    11172\n",
       "2008    10880\n",
       "2000    10639\n",
       "2004    10537\n",
       "Name: Name, dtype: int64"
      ]
     },
     "execution_count": 31,
     "metadata": {},
     "output_type": "execute_result"
    }
   ],
   "source": [
    "year_with_most_olympians.sort_values(ascending = False).head(5) #See Top five years with most olympinas"
   ]
  },
  {
   "cell_type": "code",
   "execution_count": 32,
   "metadata": {},
   "outputs": [],
   "source": [
    "#Assign the total number of 2016 olympians to a variable\n",
    "\n",
    "olympians_2016 = olympics_df[\"Year\"] == 2016"
   ]
  },
  {
   "cell_type": "code",
   "execution_count": 33,
   "metadata": {},
   "outputs": [],
   "source": [
    "all_2016_olympians = olympics_df.loc[olympians_2016,\"Name\"].nunique()"
   ]
  },
  {
   "cell_type": "code",
   "execution_count": 34,
   "metadata": {
    "scrolled": true
   },
   "outputs": [
    {
     "name": "stdout",
     "output_type": "stream",
     "text": [
      "The 2016 olympics had the highest number of olympians with a total of 11174 olympians\n"
     ]
    }
   ],
   "source": [
    "print(\"The 2016 olympics had the highest number of olympians with a total of {} olympians\".format(all_2016_olympians ))"
   ]
  },
  {
   "cell_type": "markdown",
   "metadata": {},
   "source": [
    "> #### Below is a pie chart representation of top 5 years with the hightest number of olympians participating;"
   ]
  },
  {
   "cell_type": "code",
   "execution_count": 35,
   "metadata": {
    "scrolled": true
   },
   "outputs": [
    {
     "data": {
      "image/png": "[encoded data removed]",
      "text/plain": [
       "<Figure size 720x360 with 1 Axes>"
      ]
     },
     "metadata": {},
     "output_type": "display_data"
    }
   ],
   "source": [
    "#Pie chart representation of top 5 years with the hightest number of olympians participating\n",
    "plt.figure(figsize = (10,5))\n",
    "Top_5 = year_with_most_olympians.sort_values(ascending = False).head(5)\n",
    "Top_5_indx = year_with_most_olympians.head(5).index\n",
    "explode = [0.1,0.1,0,0,0]\n",
    "\n",
    "plt.pie(Top_5,labels=Top_5_indx,autopct='%1.1f%%', startangle=90,shadow = True,explode = explode)\n",
    "\n",
    "plt.title(\" Top 5 Years with most olympians\",fontsize= 14);"
   ]
  },
  {
   "cell_type": "code",
   "execution_count": 36,
   "metadata": {},
   "outputs": [
    {
     "data": {
      "text/plain": [
       "Int64Index([1896, 1900, 1904, 1906, 1908], dtype='int64', name='Year')"
      ]
     },
     "execution_count": 36,
     "metadata": {},
     "output_type": "execute_result"
    }
   ],
   "source": [
    "Top_5_indx"
   ]
  },
  {
   "cell_type": "markdown",
   "metadata": {},
   "source": [
    "> #### Below is a line Graph representation of the number of olympians in every olympics;"
   ]
  },
  {
   "cell_type": "code",
   "execution_count": 37,
   "metadata": {},
   "outputs": [],
   "source": [
    "no_of_olympians = year_with_most_olympians\n",
    "correspoding_years = year_with_most_olympians.index"
   ]
  },
  {
   "cell_type": "code",
   "execution_count": 38,
   "metadata": {
    "scrolled": true
   },
   "outputs": [
    {
     "data": {
      "image/png": "[encoded data removed]",
      "text/plain": [
       "<Figure size 432x288 with 1 Axes>"
      ]
     },
     "metadata": {
      "needs_background": "light"
     },
     "output_type": "display_data"
    }
   ],
   "source": [
    "sns.lineplot(x = correspoding_years,y =no_of_olympians)\n",
    "plt.title(\"Number of olympians in every olympics\",fontsize= 14)\n",
    "plt.xlabel(\"Year\",fontsize = 14)\n",
    "plt.ylabel(\"No. of Olympians\",fontsize = 14);"
   ]
  },
  {
   "cell_type": "markdown",
   "metadata": {},
   "source": [
    "* The number of olympians had  been increasing  upto around the  year 2000 when the numbers started fluctuating"
   ]
  },
  {
   "cell_type": "markdown",
   "metadata": {},
   "source": [
    " ### Q2:Which olympian had most appearances in olympic events?"
   ]
  },
  {
   "cell_type": "code",
   "execution_count": 39,
   "metadata": {},
   "outputs": [],
   "source": [
    "## Athlete With the Most appearances \n",
    "Most_appearing_athelete = olympics_df.Name.value_counts()"
   ]
  },
  {
   "cell_type": "code",
   "execution_count": 40,
   "metadata": {
    "scrolled": true
   },
   "outputs": [
    {
     "data": {
      "text/plain": [
       "Robert Tait McKenzie        58\n",
       "Heikki Ilmari Savolainen    39\n",
       "Joseph \"Josy\" Stoffel       38\n",
       "Ioannis Theofilakis         36\n",
       "Takashi Ono                 33\n",
       "                            ..\n",
       "Dario Alejandro Gasco        1\n",
       "David Toivo Teivonen         1\n",
       "Cveto Pretnar                1\n",
       "Hiram Ricardo Mier Alans     1\n",
       "James Edwin \"Jim\" Scherr     1\n",
       "Name: Name, Length: 134732, dtype: int64"
      ]
     },
     "execution_count": 40,
     "metadata": {},
     "output_type": "execute_result"
    }
   ],
   "source": [
    "Most_appearing_athelete"
   ]
  },
  {
   "cell_type": "markdown",
   "metadata": {},
   "source": [
    "* The Athlete who had most appearances was Robert Tait McKenzie."
   ]
  },
  {
   "cell_type": "code",
   "execution_count": 41,
   "metadata": {},
   "outputs": [],
   "source": [
    "#Most_appearing_athlete data frame\n",
    "Most_appearing_athlete = olympics_df[olympics_df.Name == \"Robert Tait McKenzie\"]"
   ]
  },
  {
   "cell_type": "code",
   "execution_count": 42,
   "metadata": {},
   "outputs": [
    {
     "data": {
      "text/html": [
       "<div>\n",
       "<style scoped>\n",
       "    .dataframe tbody tr th:only-of-type {\n",
       "        vertical-align: middle;\n",
       "    }\n",
       "\n",
       "    .dataframe tbody tr th {\n",
       "        vertical-align: top;\n",
       "    }\n",
       "\n",
       "    .dataframe thead th {\n",
       "        text-align: right;\n",
       "    }\n",
       "</style>\n",
       "<table border=\"1\" class=\"dataframe\">\n",
       "  <thead>\n",
       "    <tr style=\"text-align: right;\">\n",
       "      <th></th>\n",
       "      <th>Name</th>\n",
       "      <th>Sex</th>\n",
       "      <th>Age</th>\n",
       "      <th>Height</th>\n",
       "      <th>Weight</th>\n",
       "      <th>Team</th>\n",
       "      <th>NOC</th>\n",
       "      <th>Games</th>\n",
       "      <th>Year</th>\n",
       "      <th>Season</th>\n",
       "      <th>City</th>\n",
       "      <th>Sport</th>\n",
       "      <th>Event</th>\n",
       "      <th>Medal</th>\n",
       "    </tr>\n",
       "  </thead>\n",
       "  <tbody>\n",
       "    <tr>\n",
       "      <th>154798</th>\n",
       "      <td>Robert Tait McKenzie</td>\n",
       "      <td>M</td>\n",
       "      <td>44.0</td>\n",
       "      <td>NaN</td>\n",
       "      <td>NaN</td>\n",
       "      <td>Canada</td>\n",
       "      <td>CAN</td>\n",
       "      <td>1912 Summer</td>\n",
       "      <td>1912</td>\n",
       "      <td>Summer</td>\n",
       "      <td>Stockholm</td>\n",
       "      <td>Art Competitions</td>\n",
       "      <td>Art Competitions Mixed Sculpturing</td>\n",
       "      <td>No Medal</td>\n",
       "    </tr>\n",
       "    <tr>\n",
       "      <th>154799</th>\n",
       "      <td>Robert Tait McKenzie</td>\n",
       "      <td>M</td>\n",
       "      <td>60.0</td>\n",
       "      <td>NaN</td>\n",
       "      <td>NaN</td>\n",
       "      <td>Canada</td>\n",
       "      <td>CAN</td>\n",
       "      <td>1928 Summer</td>\n",
       "      <td>1928</td>\n",
       "      <td>Summer</td>\n",
       "      <td>Amsterdam</td>\n",
       "      <td>Art Competitions</td>\n",
       "      <td>Art Competitions Mixed Sculpturing, Statues</td>\n",
       "      <td>No Medal</td>\n",
       "    </tr>\n",
       "    <tr>\n",
       "      <th>154800</th>\n",
       "      <td>Robert Tait McKenzie</td>\n",
       "      <td>M</td>\n",
       "      <td>60.0</td>\n",
       "      <td>NaN</td>\n",
       "      <td>NaN</td>\n",
       "      <td>Canada</td>\n",
       "      <td>CAN</td>\n",
       "      <td>1928 Summer</td>\n",
       "      <td>1928</td>\n",
       "      <td>Summer</td>\n",
       "      <td>Amsterdam</td>\n",
       "      <td>Art Competitions</td>\n",
       "      <td>Art Competitions Mixed Sculpturing, Statues</td>\n",
       "      <td>No Medal</td>\n",
       "    </tr>\n",
       "  </tbody>\n",
       "</table>\n",
       "</div>"
      ],
      "text/plain": [
       "                        Name Sex   Age  Height  Weight    Team  NOC  \\\n",
       "154798  Robert Tait McKenzie   M  44.0     NaN     NaN  Canada  CAN   \n",
       "154799  Robert Tait McKenzie   M  60.0     NaN     NaN  Canada  CAN   \n",
       "154800  Robert Tait McKenzie   M  60.0     NaN     NaN  Canada  CAN   \n",
       "\n",
       "              Games  Year  Season       City             Sport  \\\n",
       "154798  1912 Summer  1912  Summer  Stockholm  Art Competitions   \n",
       "154799  1928 Summer  1928  Summer  Amsterdam  Art Competitions   \n",
       "154800  1928 Summer  1928  Summer  Amsterdam  Art Competitions   \n",
       "\n",
       "                                              Event     Medal  \n",
       "154798           Art Competitions Mixed Sculpturing  No Medal  \n",
       "154799  Art Competitions Mixed Sculpturing, Statues  No Medal  \n",
       "154800  Art Competitions Mixed Sculpturing, Statues  No Medal  "
      ]
     },
     "execution_count": 42,
     "metadata": {},
     "output_type": "execute_result"
    }
   ],
   "source": [
    "Most_appearing_athlete.head(3) #View first 5 rows"
   ]
  },
  {
   "cell_type": "code",
   "execution_count": 43,
   "metadata": {},
   "outputs": [],
   "source": [
    "#Years in which Robert Tait McKenzie's had most apperances and in which Event\n",
    "\n",
    "#Robert = Most_appearing_athlete[\"Year\"],[\"Event\"]\n",
    "Robert_events = Most_appearing_athlete[\"Event\"].value_counts()"
   ]
  },
  {
   "cell_type": "code",
   "execution_count": 44,
   "metadata": {
    "scrolled": false
   },
   "outputs": [
    {
     "data": {
      "text/plain": [
       "Art Competitions Mixed Sculpturing, Unknown Event         48\n",
       "Art Competitions Mixed Sculpturing, Statues                7\n",
       "Art Competitions Mixed Sculpturing                         1\n",
       "Art Competitions Mixed Sculpturing, Medals                 1\n",
       "Art Competitions Mixed Sculpturing, Medals And Reliefs     1\n",
       "Name: Event, dtype: int64"
      ]
     },
     "execution_count": 44,
     "metadata": {},
     "output_type": "execute_result"
    }
   ],
   "source": [
    "Robert_events"
   ]
  },
  {
   "cell_type": "code",
   "execution_count": 45,
   "metadata": {
    "scrolled": true
   },
   "outputs": [
    {
     "name": "stdout",
     "output_type": "stream",
     "text": [
      "Robert Tait McKenziehas has had the most appearances with a total of 48 appearances\n"
     ]
    }
   ],
   "source": [
    "print(\"Robert Tait McKenziehas has had the most appearances with a total of {} appearances\".format(Robert_events.max()))"
   ]
  },
  {
   "cell_type": "markdown",
   "metadata": {},
   "source": [
    "> #### Below is a horizontal bar graph represenatation of events in which Robert Tait McKenziehas made most appearances;"
   ]
  },
  {
   "cell_type": "code",
   "execution_count": 46,
   "metadata": {
    "scrolled": true
   },
   "outputs": [
    {
     "data": {
      "image/png": "[encoded data removed]",
      "text/plain": [
       "<Figure size 432x288 with 1 Axes>"
      ]
     },
     "metadata": {
      "needs_background": "light"
     },
     "output_type": "display_data"
    }
   ],
   "source": [
    "Robert_events.plot(kind = \"barh\");"
   ]
  },
  {
   "cell_type": "markdown",
   "metadata": {},
   "source": [
    "### Q3: Who is the oldest Olympian in olympics history?"
   ]
  },
  {
   "cell_type": "code",
   "execution_count": 47,
   "metadata": {
    "scrolled": true
   },
   "outputs": [
    {
     "data": {
      "text/html": [
       "<div>\n",
       "<style scoped>\n",
       "    .dataframe tbody tr th:only-of-type {\n",
       "        vertical-align: middle;\n",
       "    }\n",
       "\n",
       "    .dataframe tbody tr th {\n",
       "        vertical-align: top;\n",
       "    }\n",
       "\n",
       "    .dataframe thead th {\n",
       "        text-align: right;\n",
       "    }\n",
       "</style>\n",
       "<table border=\"1\" class=\"dataframe\">\n",
       "  <thead>\n",
       "    <tr style=\"text-align: right;\">\n",
       "      <th></th>\n",
       "      <th>Name</th>\n",
       "      <th>Age</th>\n",
       "    </tr>\n",
       "  </thead>\n",
       "  <tbody>\n",
       "    <tr>\n",
       "      <th>257054</th>\n",
       "      <td>John Quincy Adams Ward</td>\n",
       "      <td>97.0</td>\n",
       "    </tr>\n",
       "    <tr>\n",
       "      <th>98118</th>\n",
       "      <td>Winslow Homer</td>\n",
       "      <td>96.0</td>\n",
       "    </tr>\n",
       "    <tr>\n",
       "      <th>60863</th>\n",
       "      <td>Thomas Cowperthwait Eakins</td>\n",
       "      <td>88.0</td>\n",
       "    </tr>\n",
       "    <tr>\n",
       "      <th>60861</th>\n",
       "      <td>Thomas Cowperthwait Eakins</td>\n",
       "      <td>88.0</td>\n",
       "    </tr>\n",
       "    <tr>\n",
       "      <th>60862</th>\n",
       "      <td>Thomas Cowperthwait Eakins</td>\n",
       "      <td>88.0</td>\n",
       "    </tr>\n",
       "  </tbody>\n",
       "</table>\n",
       "</div>"
      ],
      "text/plain": [
       "                              Name   Age\n",
       "257054      John Quincy Adams Ward  97.0\n",
       "98118                Winslow Homer  96.0\n",
       "60863   Thomas Cowperthwait Eakins  88.0\n",
       "60861   Thomas Cowperthwait Eakins  88.0\n",
       "60862   Thomas Cowperthwait Eakins  88.0"
      ]
     },
     "execution_count": 47,
     "metadata": {},
     "output_type": "execute_result"
    }
   ],
   "source": [
    "#Get name and age of oldest olympian\n",
    "olympics_df[[\"Name\",\"Age\"]].sort_values(\"Age\",ascending = False).head(5) #View first five rows"
   ]
  },
  {
   "cell_type": "markdown",
   "metadata": {},
   "source": [
    "* The  oldest olympian was John Quincy Adams Ward"
   ]
  },
  {
   "cell_type": "code",
   "execution_count": 48,
   "metadata": {
    "scrolled": false
   },
   "outputs": [
    {
     "data": {
      "text/html": [
       "<div>\n",
       "<style scoped>\n",
       "    .dataframe tbody tr th:only-of-type {\n",
       "        vertical-align: middle;\n",
       "    }\n",
       "\n",
       "    .dataframe tbody tr th {\n",
       "        vertical-align: top;\n",
       "    }\n",
       "\n",
       "    .dataframe thead th {\n",
       "        text-align: right;\n",
       "    }\n",
       "</style>\n",
       "<table border=\"1\" class=\"dataframe\">\n",
       "  <thead>\n",
       "    <tr style=\"text-align: right;\">\n",
       "      <th></th>\n",
       "      <th>Name</th>\n",
       "      <th>Sex</th>\n",
       "      <th>Age</th>\n",
       "      <th>Height</th>\n",
       "      <th>Weight</th>\n",
       "      <th>Team</th>\n",
       "      <th>NOC</th>\n",
       "      <th>Games</th>\n",
       "      <th>Year</th>\n",
       "      <th>Season</th>\n",
       "      <th>City</th>\n",
       "      <th>Sport</th>\n",
       "      <th>Event</th>\n",
       "      <th>Medal</th>\n",
       "    </tr>\n",
       "  </thead>\n",
       "  <tbody>\n",
       "    <tr>\n",
       "      <th>257054</th>\n",
       "      <td>John Quincy Adams Ward</td>\n",
       "      <td>M</td>\n",
       "      <td>97.0</td>\n",
       "      <td>NaN</td>\n",
       "      <td>NaN</td>\n",
       "      <td>United States</td>\n",
       "      <td>USA</td>\n",
       "      <td>1928 Summer</td>\n",
       "      <td>1928</td>\n",
       "      <td>Summer</td>\n",
       "      <td>Amsterdam</td>\n",
       "      <td>Art Competitions</td>\n",
       "      <td>Art Competitions Mixed Sculpturing, Statues</td>\n",
       "      <td>No Medal</td>\n",
       "    </tr>\n",
       "  </tbody>\n",
       "</table>\n",
       "</div>"
      ],
      "text/plain": [
       "                          Name Sex   Age  Height  Weight           Team  NOC  \\\n",
       "257054  John Quincy Adams Ward   M  97.0     NaN     NaN  United States  USA   \n",
       "\n",
       "              Games  Year  Season       City             Sport  \\\n",
       "257054  1928 Summer  1928  Summer  Amsterdam  Art Competitions   \n",
       "\n",
       "                                              Event     Medal  \n",
       "257054  Art Competitions Mixed Sculpturing, Statues  No Medal  "
      ]
     },
     "execution_count": 48,
     "metadata": {},
     "output_type": "execute_result"
    }
   ],
   "source": [
    "#Details of oldest olympian\n",
    "olympics_df[olympics_df.Name == \"John Quincy Adams Ward\"]"
   ]
  },
  {
   "cell_type": "markdown",
   "metadata": {},
   "source": [
    "### Q4 : Who are the octogenerian olympians?"
   ]
  },
  {
   "cell_type": "code",
   "execution_count": 49,
   "metadata": {
    "scrolled": false
   },
   "outputs": [
    {
     "data": {
      "text/html": [
       "<div>\n",
       "<style scoped>\n",
       "    .dataframe tbody tr th:only-of-type {\n",
       "        vertical-align: middle;\n",
       "    }\n",
       "\n",
       "    .dataframe tbody tr th {\n",
       "        vertical-align: top;\n",
       "    }\n",
       "\n",
       "    .dataframe thead th {\n",
       "        text-align: right;\n",
       "    }\n",
       "</style>\n",
       "<table border=\"1\" class=\"dataframe\">\n",
       "  <thead>\n",
       "    <tr style=\"text-align: right;\">\n",
       "      <th></th>\n",
       "      <th>Name</th>\n",
       "      <th>Sex</th>\n",
       "      <th>Age</th>\n",
       "      <th>Height</th>\n",
       "      <th>Weight</th>\n",
       "      <th>Team</th>\n",
       "      <th>NOC</th>\n",
       "      <th>Games</th>\n",
       "      <th>Year</th>\n",
       "      <th>Season</th>\n",
       "      <th>City</th>\n",
       "      <th>Sport</th>\n",
       "      <th>Event</th>\n",
       "      <th>Medal</th>\n",
       "    </tr>\n",
       "  </thead>\n",
       "  <tbody>\n",
       "    <tr>\n",
       "      <th>9371</th>\n",
       "      <td>George Denholm Armour</td>\n",
       "      <td>M</td>\n",
       "      <td>84.0</td>\n",
       "      <td>NaN</td>\n",
       "      <td>NaN</td>\n",
       "      <td>Great Britain</td>\n",
       "      <td>GBR</td>\n",
       "      <td>1948 Summer</td>\n",
       "      <td>1948</td>\n",
       "      <td>Summer</td>\n",
       "      <td>London</td>\n",
       "      <td>Art Competitions</td>\n",
       "      <td>Art Competitions Mixed Painting, Unknown Event</td>\n",
       "      <td>No Medal</td>\n",
       "    </tr>\n",
       "    <tr>\n",
       "      <th>60861</th>\n",
       "      <td>Thomas Cowperthwait Eakins</td>\n",
       "      <td>M</td>\n",
       "      <td>88.0</td>\n",
       "      <td>NaN</td>\n",
       "      <td>NaN</td>\n",
       "      <td>United States</td>\n",
       "      <td>USA</td>\n",
       "      <td>1932 Summer</td>\n",
       "      <td>1932</td>\n",
       "      <td>Summer</td>\n",
       "      <td>Los Angeles</td>\n",
       "      <td>Art Competitions</td>\n",
       "      <td>Art Competitions Mixed Painting, Unknown Event</td>\n",
       "      <td>No Medal</td>\n",
       "    </tr>\n",
       "    <tr>\n",
       "      <th>60862</th>\n",
       "      <td>Thomas Cowperthwait Eakins</td>\n",
       "      <td>M</td>\n",
       "      <td>88.0</td>\n",
       "      <td>NaN</td>\n",
       "      <td>NaN</td>\n",
       "      <td>United States</td>\n",
       "      <td>USA</td>\n",
       "      <td>1932 Summer</td>\n",
       "      <td>1932</td>\n",
       "      <td>Summer</td>\n",
       "      <td>Los Angeles</td>\n",
       "      <td>Art Competitions</td>\n",
       "      <td>Art Competitions Mixed Painting, Unknown Event</td>\n",
       "      <td>No Medal</td>\n",
       "    </tr>\n",
       "    <tr>\n",
       "      <th>60863</th>\n",
       "      <td>Thomas Cowperthwait Eakins</td>\n",
       "      <td>M</td>\n",
       "      <td>88.0</td>\n",
       "      <td>NaN</td>\n",
       "      <td>NaN</td>\n",
       "      <td>United States</td>\n",
       "      <td>USA</td>\n",
       "      <td>1932 Summer</td>\n",
       "      <td>1932</td>\n",
       "      <td>Summer</td>\n",
       "      <td>Los Angeles</td>\n",
       "      <td>Art Competitions</td>\n",
       "      <td>Art Competitions Mixed Painting, Unknown Event</td>\n",
       "      <td>No Medal</td>\n",
       "    </tr>\n",
       "    <tr>\n",
       "      <th>138812</th>\n",
       "      <td>Max Liebermann</td>\n",
       "      <td>M</td>\n",
       "      <td>80.0</td>\n",
       "      <td>NaN</td>\n",
       "      <td>NaN</td>\n",
       "      <td>Germany</td>\n",
       "      <td>GER</td>\n",
       "      <td>1928 Summer</td>\n",
       "      <td>1928</td>\n",
       "      <td>Summer</td>\n",
       "      <td>Amsterdam</td>\n",
       "      <td>Art Competitions</td>\n",
       "      <td>Art Competitions Mixed Painting, Graphic Arts</td>\n",
       "      <td>No Medal</td>\n",
       "    </tr>\n",
       "    <tr>\n",
       "      <th>138813</th>\n",
       "      <td>Max Liebermann</td>\n",
       "      <td>M</td>\n",
       "      <td>80.0</td>\n",
       "      <td>NaN</td>\n",
       "      <td>NaN</td>\n",
       "      <td>Germany</td>\n",
       "      <td>GER</td>\n",
       "      <td>1928 Summer</td>\n",
       "      <td>1928</td>\n",
       "      <td>Summer</td>\n",
       "      <td>Amsterdam</td>\n",
       "      <td>Art Competitions</td>\n",
       "      <td>Art Competitions Mixed Painting, Graphic Arts</td>\n",
       "      <td>No Medal</td>\n",
       "    </tr>\n",
       "    <tr>\n",
       "      <th>138814</th>\n",
       "      <td>Max Liebermann</td>\n",
       "      <td>M</td>\n",
       "      <td>80.0</td>\n",
       "      <td>NaN</td>\n",
       "      <td>NaN</td>\n",
       "      <td>Germany</td>\n",
       "      <td>GER</td>\n",
       "      <td>1928 Summer</td>\n",
       "      <td>1928</td>\n",
       "      <td>Summer</td>\n",
       "      <td>Amsterdam</td>\n",
       "      <td>Art Competitions</td>\n",
       "      <td>Art Competitions Mixed Painting, Graphic Arts</td>\n",
       "      <td>No Medal</td>\n",
       "    </tr>\n",
       "    <tr>\n",
       "      <th>154855</th>\n",
       "      <td>Robert Tait McKenzie</td>\n",
       "      <td>M</td>\n",
       "      <td>81.0</td>\n",
       "      <td>NaN</td>\n",
       "      <td>NaN</td>\n",
       "      <td>Canada</td>\n",
       "      <td>CAN</td>\n",
       "      <td>1948 Summer</td>\n",
       "      <td>1948</td>\n",
       "      <td>Summer</td>\n",
       "      <td>London</td>\n",
       "      <td>Art Competitions</td>\n",
       "      <td>Art Competitions Mixed Sculpturing, Unknown Event</td>\n",
       "      <td>No Medal</td>\n",
       "    </tr>\n",
       "    <tr>\n",
       "      <th>236912</th>\n",
       "      <td>Louis Tauzin</td>\n",
       "      <td>M</td>\n",
       "      <td>81.0</td>\n",
       "      <td>NaN</td>\n",
       "      <td>NaN</td>\n",
       "      <td>France</td>\n",
       "      <td>FRA</td>\n",
       "      <td>1924 Summer</td>\n",
       "      <td>1924</td>\n",
       "      <td>Summer</td>\n",
       "      <td>Paris</td>\n",
       "      <td>Art Competitions</td>\n",
       "      <td>Art Competitions Mixed Sculpturing</td>\n",
       "      <td>No Medal</td>\n",
       "    </tr>\n",
       "  </tbody>\n",
       "</table>\n",
       "</div>"
      ],
      "text/plain": [
       "                              Name Sex   Age  Height  Weight           Team  \\\n",
       "9371         George Denholm Armour   M  84.0     NaN     NaN  Great Britain   \n",
       "60861   Thomas Cowperthwait Eakins   M  88.0     NaN     NaN  United States   \n",
       "60862   Thomas Cowperthwait Eakins   M  88.0     NaN     NaN  United States   \n",
       "60863   Thomas Cowperthwait Eakins   M  88.0     NaN     NaN  United States   \n",
       "138812              Max Liebermann   M  80.0     NaN     NaN        Germany   \n",
       "138813              Max Liebermann   M  80.0     NaN     NaN        Germany   \n",
       "138814              Max Liebermann   M  80.0     NaN     NaN        Germany   \n",
       "154855        Robert Tait McKenzie   M  81.0     NaN     NaN         Canada   \n",
       "236912                Louis Tauzin   M  81.0     NaN     NaN         France   \n",
       "\n",
       "        NOC        Games  Year  Season         City             Sport  \\\n",
       "9371    GBR  1948 Summer  1948  Summer       London  Art Competitions   \n",
       "60861   USA  1932 Summer  1932  Summer  Los Angeles  Art Competitions   \n",
       "60862   USA  1932 Summer  1932  Summer  Los Angeles  Art Competitions   \n",
       "60863   USA  1932 Summer  1932  Summer  Los Angeles  Art Competitions   \n",
       "138812  GER  1928 Summer  1928  Summer    Amsterdam  Art Competitions   \n",
       "138813  GER  1928 Summer  1928  Summer    Amsterdam  Art Competitions   \n",
       "138814  GER  1928 Summer  1928  Summer    Amsterdam  Art Competitions   \n",
       "154855  CAN  1948 Summer  1948  Summer       London  Art Competitions   \n",
       "236912  FRA  1924 Summer  1924  Summer        Paris  Art Competitions   \n",
       "\n",
       "                                                    Event     Medal  \n",
       "9371       Art Competitions Mixed Painting, Unknown Event  No Medal  \n",
       "60861      Art Competitions Mixed Painting, Unknown Event  No Medal  \n",
       "60862      Art Competitions Mixed Painting, Unknown Event  No Medal  \n",
       "60863      Art Competitions Mixed Painting, Unknown Event  No Medal  \n",
       "138812      Art Competitions Mixed Painting, Graphic Arts  No Medal  \n",
       "138813      Art Competitions Mixed Painting, Graphic Arts  No Medal  \n",
       "138814      Art Competitions Mixed Painting, Graphic Arts  No Medal  \n",
       "154855  Art Competitions Mixed Sculpturing, Unknown Event  No Medal  \n",
       "236912                 Art Competitions Mixed Sculpturing  No Medal  "
      ]
     },
     "execution_count": 49,
     "metadata": {},
     "output_type": "execute_result"
    }
   ],
   "source": [
    "#Octogenerian Olympians\n",
    "\n",
    "Octogenerian_Olympians = olympics_df[(olympics_df.Age >= 80)& (olympics_df.Age <= 89)]\n",
    "Octogenerian_Olympians"
   ]
  },
  {
   "cell_type": "code",
   "execution_count": 50,
   "metadata": {},
   "outputs": [
    {
     "data": {
      "text/plain": [
       "5"
      ]
     },
     "execution_count": 50,
     "metadata": {},
     "output_type": "execute_result"
    }
   ],
   "source": [
    "Octogenerian_Olympians[\"Name\"].nunique() #See the no. of unique values in the name column"
   ]
  },
  {
   "cell_type": "code",
   "execution_count": 51,
   "metadata": {},
   "outputs": [
    {
     "name": "stdout",
     "output_type": "stream",
     "text": [
      "There have been 5 octogenerian olympians,they have all participated in Arts Competition and non of them has  won a  medal\n"
     ]
    }
   ],
   "source": [
    "print(\"There have been {} octogenerian olympians,they have all participated in Arts Competition and non of them has  won a  medal\".format(Octogenerian_Olympians[\"Name\"].nunique()))"
   ]
  },
  {
   "cell_type": "markdown",
   "metadata": {},
   "source": [
    "### Q5: Who was the  youngest olympian?"
   ]
  },
  {
   "cell_type": "code",
   "execution_count": 52,
   "metadata": {},
   "outputs": [],
   "source": [
    "#youngest_olympian\n",
    "youngest_olympian = int(olympics_df.Age.min())"
   ]
  },
  {
   "cell_type": "code",
   "execution_count": 53,
   "metadata": {},
   "outputs": [
    {
     "data": {
      "text/plain": [
       "10"
      ]
     },
     "execution_count": 53,
     "metadata": {},
     "output_type": "execute_result"
    }
   ],
   "source": [
    "youngest_olympian"
   ]
  },
  {
   "cell_type": "code",
   "execution_count": 54,
   "metadata": {
    "scrolled": true
   },
   "outputs": [
    {
     "data": {
      "text/html": [
       "<div>\n",
       "<style scoped>\n",
       "    .dataframe tbody tr th:only-of-type {\n",
       "        vertical-align: middle;\n",
       "    }\n",
       "\n",
       "    .dataframe tbody tr th {\n",
       "        vertical-align: top;\n",
       "    }\n",
       "\n",
       "    .dataframe thead th {\n",
       "        text-align: right;\n",
       "    }\n",
       "</style>\n",
       "<table border=\"1\" class=\"dataframe\">\n",
       "  <thead>\n",
       "    <tr style=\"text-align: right;\">\n",
       "      <th></th>\n",
       "      <th>Name</th>\n",
       "      <th>Sex</th>\n",
       "      <th>Age</th>\n",
       "      <th>Height</th>\n",
       "      <th>Weight</th>\n",
       "      <th>Team</th>\n",
       "      <th>NOC</th>\n",
       "      <th>Games</th>\n",
       "      <th>Year</th>\n",
       "      <th>Season</th>\n",
       "      <th>City</th>\n",
       "      <th>Sport</th>\n",
       "      <th>Event</th>\n",
       "      <th>Medal</th>\n",
       "    </tr>\n",
       "  </thead>\n",
       "  <tbody>\n",
       "    <tr>\n",
       "      <th>142882</th>\n",
       "      <td>Dimitrios Loundras</td>\n",
       "      <td>M</td>\n",
       "      <td>10.0</td>\n",
       "      <td>NaN</td>\n",
       "      <td>NaN</td>\n",
       "      <td>Ethnikos Gymnastikos Syllogos</td>\n",
       "      <td>GRE</td>\n",
       "      <td>1896 Summer</td>\n",
       "      <td>1896</td>\n",
       "      <td>Summer</td>\n",
       "      <td>Athina</td>\n",
       "      <td>Gymnastics</td>\n",
       "      <td>Gymnastics Men's Parallel Bars, Teams</td>\n",
       "      <td>Bronze</td>\n",
       "    </tr>\n",
       "  </tbody>\n",
       "</table>\n",
       "</div>"
      ],
      "text/plain": [
       "                      Name Sex   Age  Height  Weight  \\\n",
       "142882  Dimitrios Loundras   M  10.0     NaN     NaN   \n",
       "\n",
       "                                 Team  NOC        Games  Year  Season    City  \\\n",
       "142882  Ethnikos Gymnastikos Syllogos  GRE  1896 Summer  1896  Summer  Athina   \n",
       "\n",
       "             Sport                                  Event   Medal  \n",
       "142882  Gymnastics  Gymnastics Men's Parallel Bars, Teams  Bronze  "
      ]
     },
     "execution_count": 54,
     "metadata": {},
     "output_type": "execute_result"
    }
   ],
   "source": [
    "olympics_df[olympics_df.Age == 10] #youngest_olympian dataframe\n"
   ]
  },
  {
   "cell_type": "code",
   "execution_count": 55,
   "metadata": {
    "scrolled": false
   },
   "outputs": [
    {
     "name": "stdout",
     "output_type": "stream",
     "text": [
      "10 years old Dimitrios Loundras was the youngest olympian ever\n"
     ]
    }
   ],
   "source": [
    "print(\"{} years old Dimitrios Loundras was the youngest olympian ever\".format(youngest_olympian))"
   ]
  },
  {
   "cell_type": "markdown",
   "metadata": {},
   "source": [
    "### Q6: How old was the youngest female olympian?"
   ]
  },
  {
   "cell_type": "code",
   "execution_count": 56,
   "metadata": {
    "scrolled": true
   },
   "outputs": [],
   "source": [
    "Female_olympians = (olympics_df.Sex == \"F\") #Get all female olympians"
   ]
  },
  {
   "cell_type": "code",
   "execution_count": 57,
   "metadata": {},
   "outputs": [],
   "source": [
    "youngest_female_olympian = olympics_df.loc[Female_olympians,\"Age\"].sort_values(ascending = True) #Sort their ages from the younrest to the oldest"
   ]
  },
  {
   "cell_type": "code",
   "execution_count": 58,
   "metadata": {
    "scrolled": true
   },
   "outputs": [
    {
     "data": {
      "text/plain": [
       "43468     11.0\n",
       "102916    11.0\n",
       "94058     11.0\n",
       "252230    11.0\n",
       "237141    11.0\n",
       "          ... \n",
       "35445     73.0\n",
       "201631    74.0\n",
       "201632    74.0\n",
       "201633    74.0\n",
       "201634    74.0\n",
       "Name: Age, Length: 74098, dtype: float64"
      ]
     },
     "execution_count": 58,
     "metadata": {},
     "output_type": "execute_result"
    }
   ],
   "source": [
    "#Drop na values from youngest_female_olympian series\n",
    "youngest_female_olympian_df = youngest_female_olympian.dropna(inplace = False)\n",
    "youngest_female_olympian_df"
   ]
  },
  {
   "cell_type": "code",
   "execution_count": 59,
   "metadata": {},
   "outputs": [
    {
     "name": "stdout",
     "output_type": "stream",
     "text": [
      "The youngest female olympians were 11 years old\n"
     ]
    }
   ],
   "source": [
    "print(\"The youngest female olympians were 11 years old\")"
   ]
  },
  {
   "cell_type": "code",
   "execution_count": 60,
   "metadata": {},
   "outputs": [],
   "source": [
    "#11 year old olympians\n",
    "\n",
    "Eleven_year_old_female_olympians = olympics_df[(olympics_df.Sex == \"F\") & (olympics_df.Age == 11)]"
   ]
  },
  {
   "cell_type": "code",
   "execution_count": 61,
   "metadata": {
    "scrolled": true
   },
   "outputs": [
    {
     "data": {
      "text/plain": [
       "Figure Skating    7\n",
       "Swimming          4\n",
       "Gymnastics        1\n",
       "Name: Sport, dtype: int64"
      ]
     },
     "execution_count": 61,
     "metadata": {},
     "output_type": "execute_result"
    }
   ],
   "source": [
    "#Which sport had most eleven years old female olympians\n",
    "\n",
    "Eleven_year_old_female_olympians.Sport.value_counts()"
   ]
  },
  {
   "cell_type": "markdown",
   "metadata": {},
   "source": [
    "* Most  eleven years old Female olympians participated in Figure Skating Sport"
   ]
  },
  {
   "cell_type": "code",
   "execution_count": 62,
   "metadata": {
    "scrolled": true
   },
   "outputs": [
    {
     "data": {
      "text/plain": [
       "array(['Great Britain', 'Italy', 'Norway', 'Romania', 'Japan', 'China',\n",
       "       'South Africa', 'Puerto Rico'], dtype=object)"
      ]
     },
     "execution_count": 62,
     "metadata": {},
     "output_type": "execute_result"
    }
   ],
   "source": [
    "# Teams that have had youngest female olympians\n",
    "\n",
    "Eleven_year_old_female_olympians[\"Team\"].unique()#Get unique elements from Eleven_year_old_female_olympians Team Column"
   ]
  },
  {
   "cell_type": "markdown",
   "metadata": {},
   "source": [
    "### Q7: Number of under 20 Gold Medalists from Team USA?"
   ]
  },
  {
   "cell_type": "code",
   "execution_count": 63,
   "metadata": {
    "scrolled": true
   },
   "outputs": [],
   "source": [
    "#Under 20 Team USA Gold medalists\n",
    "young_medalists = (olympics_df[\"Age\"] < 20)& (olympics_df[\"Medal\"]== \"Gold\") & (olympics_df[\"Team\"]== \"United States\")"
   ]
  },
  {
   "cell_type": "code",
   "execution_count": 64,
   "metadata": {
    "scrolled": true
   },
   "outputs": [],
   "source": [
    "under_20 = olympics_df.loc[young_medalists] #under_20 dataframe"
   ]
  },
  {
   "cell_type": "code",
   "execution_count": 65,
   "metadata": {},
   "outputs": [
    {
     "data": {
      "text/html": [
       "<div>\n",
       "<style scoped>\n",
       "    .dataframe tbody tr th:only-of-type {\n",
       "        vertical-align: middle;\n",
       "    }\n",
       "\n",
       "    .dataframe tbody tr th {\n",
       "        vertical-align: top;\n",
       "    }\n",
       "\n",
       "    .dataframe thead th {\n",
       "        text-align: right;\n",
       "    }\n",
       "</style>\n",
       "<table border=\"1\" class=\"dataframe\">\n",
       "  <thead>\n",
       "    <tr style=\"text-align: right;\">\n",
       "      <th></th>\n",
       "      <th>Name</th>\n",
       "      <th>Sex</th>\n",
       "      <th>Age</th>\n",
       "      <th>Height</th>\n",
       "      <th>Weight</th>\n",
       "      <th>Team</th>\n",
       "      <th>NOC</th>\n",
       "      <th>Games</th>\n",
       "      <th>Year</th>\n",
       "      <th>Season</th>\n",
       "      <th>City</th>\n",
       "      <th>Sport</th>\n",
       "      <th>Event</th>\n",
       "      <th>Medal</th>\n",
       "    </tr>\n",
       "  </thead>\n",
       "  <tbody>\n",
       "    <tr>\n",
       "      <th>787</th>\n",
       "      <td>Edgar Allen \"Ed\" Ablowich</td>\n",
       "      <td>M</td>\n",
       "      <td>19.0</td>\n",
       "      <td>182.0</td>\n",
       "      <td>68.0</td>\n",
       "      <td>United States</td>\n",
       "      <td>USA</td>\n",
       "      <td>1932 Summer</td>\n",
       "      <td>1932</td>\n",
       "      <td>Summer</td>\n",
       "      <td>Los Angeles</td>\n",
       "      <td>Athletics</td>\n",
       "      <td>Athletics Men's 4 x 400 metres Relay</td>\n",
       "      <td>Gold</td>\n",
       "    </tr>\n",
       "    <tr>\n",
       "      <th>1843</th>\n",
       "      <td>Nathan Ghar-Jun Adrian</td>\n",
       "      <td>M</td>\n",
       "      <td>19.0</td>\n",
       "      <td>198.0</td>\n",
       "      <td>100.0</td>\n",
       "      <td>United States</td>\n",
       "      <td>USA</td>\n",
       "      <td>2008 Summer</td>\n",
       "      <td>2008</td>\n",
       "      <td>Summer</td>\n",
       "      <td>Beijing</td>\n",
       "      <td>Swimming</td>\n",
       "      <td>Swimming Men's 4 x 100 metres Freestyle Relay</td>\n",
       "      <td>Gold</td>\n",
       "    </tr>\n",
       "    <tr>\n",
       "      <th>2410</th>\n",
       "      <td>George Lewis Ahlgren</td>\n",
       "      <td>M</td>\n",
       "      <td>19.0</td>\n",
       "      <td>NaN</td>\n",
       "      <td>NaN</td>\n",
       "      <td>United States</td>\n",
       "      <td>USA</td>\n",
       "      <td>1948 Summer</td>\n",
       "      <td>1948</td>\n",
       "      <td>Summer</td>\n",
       "      <td>London</td>\n",
       "      <td>Rowing</td>\n",
       "      <td>Rowing Men's Coxed Eights</td>\n",
       "      <td>Gold</td>\n",
       "    </tr>\n",
       "  </tbody>\n",
       "</table>\n",
       "</div>"
      ],
      "text/plain": [
       "                           Name Sex   Age  Height  Weight           Team  NOC  \\\n",
       "787   Edgar Allen \"Ed\" Ablowich   M  19.0   182.0    68.0  United States  USA   \n",
       "1843     Nathan Ghar-Jun Adrian   M  19.0   198.0   100.0  United States  USA   \n",
       "2410       George Lewis Ahlgren   M  19.0     NaN     NaN  United States  USA   \n",
       "\n",
       "            Games  Year  Season         City      Sport  \\\n",
       "787   1932 Summer  1932  Summer  Los Angeles  Athletics   \n",
       "1843  2008 Summer  2008  Summer      Beijing   Swimming   \n",
       "2410  1948 Summer  1948  Summer       London     Rowing   \n",
       "\n",
       "                                              Event Medal  \n",
       "787            Athletics Men's 4 x 400 metres Relay  Gold  \n",
       "1843  Swimming Men's 4 x 100 metres Freestyle Relay  Gold  \n",
       "2410                      Rowing Men's Coxed Eights  Gold  "
      ]
     },
     "execution_count": 65,
     "metadata": {},
     "output_type": "execute_result"
    }
   ],
   "source": [
    "under_20.head(3) #View first 3 rows"
   ]
  },
  {
   "cell_type": "code",
   "execution_count": 66,
   "metadata": {},
   "outputs": [],
   "source": [
    "number_of_under20_medalists = under_20[\"Name\"].nunique() #Number of unique elements from under 20 Name column"
   ]
  },
  {
   "cell_type": "code",
   "execution_count": 67,
   "metadata": {
    "scrolled": true
   },
   "outputs": [
    {
     "name": "stdout",
     "output_type": "stream",
     "text": [
      "There have been a total of 285 under 20 gold medalists from team USA\n"
     ]
    }
   ],
   "source": [
    "print(\"There have been a total of {} under 20 gold medalists from team USA\".format(number_of_under20_medalists))"
   ]
  },
  {
   "cell_type": "markdown",
   "metadata": {},
   "source": [
    "> #### Plot Team USA under 20 top ten sports that won Gold Medals"
   ]
  },
  {
   "cell_type": "code",
   "execution_count": 68,
   "metadata": {},
   "outputs": [
    {
     "data": {
      "image/png": "[encoded data removed]",
      "text/plain": [
       "<Figure size 432x288 with 1 Axes>"
      ]
     },
     "metadata": {
      "needs_background": "light"
     },
     "output_type": "display_data"
    }
   ],
   "source": [
    "#Under 20: Team USA Top ten sports Gold Medal standings har graph\n",
    "\n",
    "under_20_indx = under_20[\"Sport\"].value_counts().head(10).index\n",
    "No_of_medals = under_20[\"Sport\"].value_counts().head(10)\n",
    "\n",
    "sns.barplot(x = No_of_medals,y = under_20_indx);\n",
    "\n",
    "plt.title(\"Team USA Under 20yrs Gold Medals\",fontsize = 14)\n",
    "plt.xlabel(\"No. of Medals\",fontsize = 14)\n",
    "plt.ylabel(\"Sport\",fontsize = 14);\n",
    "\n"
   ]
  },
  {
   "cell_type": "code",
   "execution_count": 69,
   "metadata": {},
   "outputs": [
    {
     "name": "stdout",
     "output_type": "stream",
     "text": [
      "Most Team USA under twenties have done well in swimming\n"
     ]
    }
   ],
   "source": [
    "print(\"Most Team USA under twenties have done well in swimming\")"
   ]
  },
  {
   "cell_type": "markdown",
   "metadata": {},
   "source": [
    "## Teams\n",
    "* _We will now ask some questions about olympic teams:_"
   ]
  },
  {
   "cell_type": "markdown",
   "metadata": {},
   "source": [
    "### Q1: How many  teams have participated in Olympics?"
   ]
  },
  {
   "cell_type": "code",
   "execution_count": 70,
   "metadata": {},
   "outputs": [],
   "source": [
    "all_teams =olympics_df.Team.nunique() #Get number of unique elements from the team column"
   ]
  },
  {
   "cell_type": "code",
   "execution_count": 71,
   "metadata": {
    "scrolled": true
   },
   "outputs": [
    {
     "name": "stdout",
     "output_type": "stream",
     "text": [
      "1184 Teams have atleast participated in the olympics between 1896 to Rio 2016\n"
     ]
    }
   ],
   "source": [
    "print(\"{} Teams have atleast participated in the olympics between 1896 to Rio 2016\".format(all_teams))"
   ]
  },
  {
   "cell_type": "code",
   "execution_count": 72,
   "metadata": {},
   "outputs": [],
   "source": [
    "#National Olympic Committees that have  participated in any of the olympic games between 1896 to 2016\n",
    "number_of_participating_countries = olympics_df.NOC.nunique()"
   ]
  },
  {
   "cell_type": "code",
   "execution_count": 73,
   "metadata": {},
   "outputs": [
    {
     "name": "stdout",
     "output_type": "stream",
     "text": [
      "230 National Olympic Committees have atleast participated in the olympics between 1896 to Rio 2016\n"
     ]
    }
   ],
   "source": [
    "print(\"{} National Olympic Committees have atleast participated in the olympics between 1896 to Rio 2016\".format(number_of_participating_countries))"
   ]
  },
  {
   "cell_type": "code",
   "execution_count": 74,
   "metadata": {},
   "outputs": [],
   "source": [
    "# 5 Teams with the highest appearance in olympic games\n",
    "highest_appearances = olympics_df.Team.value_counts()"
   ]
  },
  {
   "cell_type": "code",
   "execution_count": 75,
   "metadata": {
    "scrolled": false
   },
   "outputs": [
    {
     "data": {
      "text/plain": [
       "United States    17847\n",
       "France           11988\n",
       "Great Britain    11404\n",
       "Italy            10260\n",
       "Germany           9326\n",
       "Name: Team, dtype: int64"
      ]
     },
     "execution_count": 75,
     "metadata": {},
     "output_type": "execute_result"
    }
   ],
   "source": [
    "highest_appearances.head(5) #Check the firt five highest ranking teams"
   ]
  },
  {
   "cell_type": "markdown",
   "metadata": {},
   "source": [
    "> #### Below is a horizonal bar graph representation of top 5 Teams with the highest appearance in olympic games"
   ]
  },
  {
   "cell_type": "code",
   "execution_count": 76,
   "metadata": {
    "scrolled": true
   },
   "outputs": [
    {
     "data": {
      "image/png": "[encoded data removed]",
      "text/plain": [
       "<Figure size 432x288 with 1 Axes>"
      ]
     },
     "metadata": {
      "needs_background": "light"
     },
     "output_type": "display_data"
    }
   ],
   "source": [
    "No_of_appearances = highest_appearances.head(5)\n",
    "Team_indx = highest_appearances.head(5).index\n",
    "\n",
    "sns.barplot(x =No_of_appearances,y =Team_indx)\n",
    "\n",
    "plt.xlabel(\"Apperances\",fontsize = 14)\n",
    "plt.ylabel(\"Country\",fontsize = 14)\n",
    "plt.title(\"Highest Appearances\",fontsize = 14);"
   ]
  },
  {
   "cell_type": "markdown",
   "metadata": {},
   "source": [
    "### Q2: Which are among  the teams that have had one appearance in the olympics?"
   ]
  },
  {
   "cell_type": "code",
   "execution_count": 77,
   "metadata": {},
   "outputs": [],
   "source": [
    "# 5 Nations with the lowest appearance\n",
    "five_lowest_appearances = olympics_df.Team.value_counts().tail(5)"
   ]
  },
  {
   "cell_type": "code",
   "execution_count": 78,
   "metadata": {
    "scrolled": true
   },
   "outputs": [
    {
     "data": {
      "text/plain": [
       "Demi-Mondaine-17    1\n",
       "Rozenn-3            1\n",
       "Demi-Mondaine-15    1\n",
       "Essen               1\n",
       "Mistral Hojris      1\n",
       "Name: Team, dtype: int64"
      ]
     },
     "execution_count": 78,
     "metadata": {},
     "output_type": "execute_result"
    }
   ],
   "source": [
    "five_lowest_appearances"
   ]
  },
  {
   "cell_type": "markdown",
   "metadata": {},
   "source": [
    "### Q3: What is the number of teams that have been  participating in every  olympic year?"
   ]
  },
  {
   "cell_type": "code",
   "execution_count": 79,
   "metadata": {
    "scrolled": true
   },
   "outputs": [
    {
     "data": {
      "text/plain": [
       "Year\n",
       "1896     18\n",
       "1900    190\n",
       "1904     79\n",
       "1906     52\n",
       "1908     73\n",
       "1912    102\n",
       "1920     72\n",
       "1924     93\n",
       "1928     85\n",
       "1932     72\n",
       "1936    132\n",
       "1948    131\n",
       "1952    155\n",
       "1956    149\n",
       "1960    196\n",
       "1964    199\n",
       "1968    145\n",
       "1972    157\n",
       "1976    126\n",
       "1980    111\n",
       "1984    179\n",
       "1988    211\n",
       "1992    239\n",
       "1994    101\n",
       "1996    246\n",
       "1998    106\n",
       "2000    243\n",
       "2002    114\n",
       "2004    260\n",
       "2006    113\n",
       "2008    292\n",
       "2010    116\n",
       "2012    245\n",
       "2014    119\n",
       "2016    249\n",
       "Name: Team, dtype: int64"
      ]
     },
     "execution_count": 79,
     "metadata": {},
     "output_type": "execute_result"
    }
   ],
   "source": [
    "#Teams every event year\n",
    "\n",
    "olympics_df.groupby(\"Year\")[\"Team\"].nunique()"
   ]
  },
  {
   "cell_type": "markdown",
   "metadata": {},
   "source": [
    "### Sex\n",
    "* _We will now ask some questions about the first olympics  and when women first  participated:_"
   ]
  },
  {
   "cell_type": "code",
   "execution_count": 80,
   "metadata": {},
   "outputs": [],
   "source": [
    "#details of first ever olympics\n",
    "\n",
    "first_olympic_df = olympics_df[olympics_df.Year.isin([\"1896\"])]"
   ]
  },
  {
   "cell_type": "code",
   "execution_count": 81,
   "metadata": {
    "scrolled": true
   },
   "outputs": [
    {
     "data": {
      "text/html": [
       "<div>\n",
       "<style scoped>\n",
       "    .dataframe tbody tr th:only-of-type {\n",
       "        vertical-align: middle;\n",
       "    }\n",
       "\n",
       "    .dataframe tbody tr th {\n",
       "        vertical-align: top;\n",
       "    }\n",
       "\n",
       "    .dataframe thead th {\n",
       "        text-align: right;\n",
       "    }\n",
       "</style>\n",
       "<table border=\"1\" class=\"dataframe\">\n",
       "  <thead>\n",
       "    <tr style=\"text-align: right;\">\n",
       "      <th></th>\n",
       "      <th>Name</th>\n",
       "      <th>Sex</th>\n",
       "      <th>Age</th>\n",
       "      <th>Height</th>\n",
       "      <th>Weight</th>\n",
       "      <th>Team</th>\n",
       "      <th>NOC</th>\n",
       "      <th>Games</th>\n",
       "      <th>Year</th>\n",
       "      <th>Season</th>\n",
       "      <th>City</th>\n",
       "      <th>Sport</th>\n",
       "      <th>Event</th>\n",
       "      <th>Medal</th>\n",
       "    </tr>\n",
       "  </thead>\n",
       "  <tbody>\n",
       "  </tbody>\n",
       "</table>\n",
       "</div>"
      ],
      "text/plain": [
       "Empty DataFrame\n",
       "Columns: [Name, Sex, Age, Height, Weight, Team, NOC, Games, Year, Season, City, Sport, Event, Medal]\n",
       "Index: []"
      ]
     },
     "execution_count": 81,
     "metadata": {},
     "output_type": "execute_result"
    }
   ],
   "source": [
    "first_olympic_df"
   ]
  },
  {
   "cell_type": "code",
   "execution_count": 82,
   "metadata": {
    "scrolled": true
   },
   "outputs": [
    {
     "data": {
      "text/plain": [
       "Name      0\n",
       "Sex       0\n",
       "Age       0\n",
       "Height    0\n",
       "Weight    0\n",
       "Team      0\n",
       "NOC       0\n",
       "Games     0\n",
       "Year      0\n",
       "Season    0\n",
       "City      0\n",
       "Sport     0\n",
       "Event     0\n",
       "Medal     0\n",
       "dtype: int64"
      ]
     },
     "execution_count": 82,
     "metadata": {},
     "output_type": "execute_result"
    }
   ],
   "source": [
    "first_olympic_df.nunique() #Number of unique elements of first olympics "
   ]
  },
  {
   "cell_type": "markdown",
   "metadata": {},
   "source": [
    "### Q1: In which year did  we have the first female participants ?"
   ]
  },
  {
   "cell_type": "code",
   "execution_count": 83,
   "metadata": {},
   "outputs": [
    {
     "data": {
      "text/plain": [
       "Year\n",
       "1896    1\n",
       "1900    2\n",
       "1904    2\n",
       "1906    2\n",
       "1908    2\n",
       "1912    2\n",
       "1920    2\n",
       "1924    2\n",
       "1928    2\n",
       "1932    2\n",
       "1936    2\n",
       "1948    2\n",
       "1952    2\n",
       "1956    2\n",
       "1960    2\n",
       "1964    2\n",
       "1968    2\n",
       "1972    2\n",
       "1976    2\n",
       "1980    2\n",
       "1984    2\n",
       "1988    2\n",
       "1992    2\n",
       "1994    2\n",
       "1996    2\n",
       "1998    2\n",
       "2000    2\n",
       "2002    2\n",
       "2004    2\n",
       "2006    2\n",
       "2008    2\n",
       "2010    2\n",
       "2012    2\n",
       "2014    2\n",
       "2016    2\n",
       "Name: Sex, dtype: int64"
      ]
     },
     "execution_count": 83,
     "metadata": {},
     "output_type": "execute_result"
    }
   ],
   "source": [
    "#The year that women first paricipated in the  olymics\n",
    "olympics_df.groupby(\"Year\")[\"Sex\"].nunique()#Group by year and get unique elements of Sex"
   ]
  },
  {
   "cell_type": "code",
   "execution_count": 84,
   "metadata": {},
   "outputs": [
    {
     "name": "stdout",
     "output_type": "stream",
     "text": [
      "Only males participated in the firt ever  olympics and women first participated in 1900\n"
     ]
    }
   ],
   "source": [
    "print(\"Only males participated in the firt ever  olympics and women first participated in 1900\")"
   ]
  },
  {
   "cell_type": "markdown",
   "metadata": {},
   "source": [
    "### Sports\n",
    "* _We will now ask some questions about the first olympics Sports:_"
   ]
  },
  {
   "cell_type": "markdown",
   "metadata": {},
   "source": [
    "### Q1: Which was the  most played Games in olympics history?"
   ]
  },
  {
   "cell_type": "code",
   "execution_count": 85,
   "metadata": {},
   "outputs": [],
   "source": [
    "#Game most played\n",
    "\n",
    "most_played_Sports = olympics_df.Sport.value_counts()"
   ]
  },
  {
   "cell_type": "code",
   "execution_count": 86,
   "metadata": {
    "scrolled": true
   },
   "outputs": [
    {
     "data": {
      "text/plain": [
       "Athletics        38624\n",
       "Gymnastics       26707\n",
       "Swimming         23195\n",
       "Shooting         11448\n",
       "Cycling          10859\n",
       "                 ...  \n",
       "Racquets            12\n",
       "Jeu De Paume        11\n",
       "Roque                4\n",
       "Basque Pelota        2\n",
       "Aeronautics          1\n",
       "Name: Sport, Length: 66, dtype: int64"
      ]
     },
     "execution_count": 86,
     "metadata": {},
     "output_type": "execute_result"
    }
   ],
   "source": [
    "most_played_Sports"
   ]
  },
  {
   "cell_type": "markdown",
   "metadata": {},
   "source": [
    "### Medals\n",
    "* _We will now ask some questions about tolympics Medals:_\n",
    "\n",
    "> _Much anlysis will focus on the best teams and olympians._"
   ]
  },
  {
   "cell_type": "markdown",
   "metadata": {},
   "source": [
    "### Q1: How many Medals have been won in olympics history?"
   ]
  },
  {
   "cell_type": "code",
   "execution_count": 87,
   "metadata": {},
   "outputs": [],
   "source": [
    "Medal = olympics_df[\"Medal\"].value_counts()#Count the  values of medal column"
   ]
  },
  {
   "cell_type": "code",
   "execution_count": 88,
   "metadata": {
    "scrolled": false
   },
   "outputs": [
    {
     "data": {
      "text/plain": [
       "No Medal    231333\n",
       "Gold         13372\n",
       "Bronze       13295\n",
       "Silver       13116\n",
       "Name: Medal, dtype: int64"
      ]
     },
     "execution_count": 88,
     "metadata": {},
     "output_type": "execute_result"
    }
   ],
   "source": [
    "Medal"
   ]
  },
  {
   "cell_type": "markdown",
   "metadata": {},
   "source": [
    "### Q2: Which olympian has won most gold medals and in which sport?"
   ]
  },
  {
   "cell_type": "code",
   "execution_count": 89,
   "metadata": {
    "scrolled": true
   },
   "outputs": [],
   "source": [
    "#Athlete who has won most gold medals and in which sport\n",
    "Athlete_with_most_Medals = olympics_df[olympics_df[\"Medal\"] == \"Gold\"].value_counts([\"Name\",\"Team\",\"Sport\",])"
   ]
  },
  {
   "cell_type": "code",
   "execution_count": 90,
   "metadata": {
    "scrolled": true
   },
   "outputs": [
    {
     "data": {
      "text/plain": [
       "Name                                             Team           Sport     \n",
       "Michael Fred Phelps, II                          United States  Swimming      23\n",
       "Raymond Clarence \"Ray\" Ewry                      United States  Athletics     10\n",
       "Paavo Johannes Nurmi                             Finland        Athletics      9\n",
       "Larysa Semenivna Latynina (Diriy-)               Soviet Union   Gymnastics     9\n",
       "Mark Andrew Spitz                                United States  Swimming       9\n",
       "Frederick Carlton \"Carl\" Lewis                   United States  Athletics      9\n",
       "Usain St. Leo Bolt                               Jamaica        Athletics      8\n",
       "Matthew Nicholas \"Matt\" Biondi                   United States  Swimming       8\n",
       "Jennifer Elisabeth \"Jenny\" Thompson (-Cumpelik)  United States  Swimming       8\n",
       "Sawao Kato                                       Japan          Gymnastics     8\n",
       "dtype: int64"
      ]
     },
     "execution_count": 90,
     "metadata": {},
     "output_type": "execute_result"
    }
   ],
   "source": [
    "Athlete_with_most_Medals.head(10) #See the firt ten olympians"
   ]
  },
  {
   "cell_type": "markdown",
   "metadata": {},
   "source": [
    "* Michael Fred Phelps, II from team USA has won most medals so far in olympics history"
   ]
  },
  {
   "cell_type": "markdown",
   "metadata": {},
   "source": [
    "### Q3: How many medals did Michael Fred Phelps win in every olympic year?"
   ]
  },
  {
   "cell_type": "code",
   "execution_count": 91,
   "metadata": {},
   "outputs": [],
   "source": [
    "Michael_Fred_Phelps = olympics_df[olympics_df.Name == \"Michael Fred Phelps, II\"]  #Michael_Fred_Phelps dataframe"
   ]
  },
  {
   "cell_type": "code",
   "execution_count": 92,
   "metadata": {
    "scrolled": true
   },
   "outputs": [
    {
     "data": {
      "text/html": [
       "<div>\n",
       "<style scoped>\n",
       "    .dataframe tbody tr th:only-of-type {\n",
       "        vertical-align: middle;\n",
       "    }\n",
       "\n",
       "    .dataframe tbody tr th {\n",
       "        vertical-align: top;\n",
       "    }\n",
       "\n",
       "    .dataframe thead th {\n",
       "        text-align: right;\n",
       "    }\n",
       "</style>\n",
       "<table border=\"1\" class=\"dataframe\">\n",
       "  <thead>\n",
       "    <tr style=\"text-align: right;\">\n",
       "      <th></th>\n",
       "      <th>Name</th>\n",
       "      <th>Sex</th>\n",
       "      <th>Age</th>\n",
       "      <th>Height</th>\n",
       "      <th>Weight</th>\n",
       "      <th>Team</th>\n",
       "      <th>NOC</th>\n",
       "      <th>Games</th>\n",
       "      <th>Year</th>\n",
       "      <th>Season</th>\n",
       "      <th>City</th>\n",
       "      <th>Sport</th>\n",
       "      <th>Event</th>\n",
       "      <th>Medal</th>\n",
       "    </tr>\n",
       "  </thead>\n",
       "  <tbody>\n",
       "    <tr>\n",
       "      <th>187887</th>\n",
       "      <td>Michael Fred Phelps, II</td>\n",
       "      <td>M</td>\n",
       "      <td>15.0</td>\n",
       "      <td>193.0</td>\n",
       "      <td>91.0</td>\n",
       "      <td>United States</td>\n",
       "      <td>USA</td>\n",
       "      <td>2000 Summer</td>\n",
       "      <td>2000</td>\n",
       "      <td>Summer</td>\n",
       "      <td>Sydney</td>\n",
       "      <td>Swimming</td>\n",
       "      <td>Swimming Men's 200 metres Butterfly</td>\n",
       "      <td>No Medal</td>\n",
       "    </tr>\n",
       "    <tr>\n",
       "      <th>187888</th>\n",
       "      <td>Michael Fred Phelps, II</td>\n",
       "      <td>M</td>\n",
       "      <td>19.0</td>\n",
       "      <td>193.0</td>\n",
       "      <td>91.0</td>\n",
       "      <td>United States</td>\n",
       "      <td>USA</td>\n",
       "      <td>2004 Summer</td>\n",
       "      <td>2004</td>\n",
       "      <td>Summer</td>\n",
       "      <td>Athina</td>\n",
       "      <td>Swimming</td>\n",
       "      <td>Swimming Men's 200 metres Freestyle</td>\n",
       "      <td>Bronze</td>\n",
       "    </tr>\n",
       "    <tr>\n",
       "      <th>187889</th>\n",
       "      <td>Michael Fred Phelps, II</td>\n",
       "      <td>M</td>\n",
       "      <td>19.0</td>\n",
       "      <td>193.0</td>\n",
       "      <td>91.0</td>\n",
       "      <td>United States</td>\n",
       "      <td>USA</td>\n",
       "      <td>2004 Summer</td>\n",
       "      <td>2004</td>\n",
       "      <td>Summer</td>\n",
       "      <td>Athina</td>\n",
       "      <td>Swimming</td>\n",
       "      <td>Swimming Men's 4 x 100 metres Freestyle Relay</td>\n",
       "      <td>Bronze</td>\n",
       "    </tr>\n",
       "    <tr>\n",
       "      <th>187890</th>\n",
       "      <td>Michael Fred Phelps, II</td>\n",
       "      <td>M</td>\n",
       "      <td>19.0</td>\n",
       "      <td>193.0</td>\n",
       "      <td>91.0</td>\n",
       "      <td>United States</td>\n",
       "      <td>USA</td>\n",
       "      <td>2004 Summer</td>\n",
       "      <td>2004</td>\n",
       "      <td>Summer</td>\n",
       "      <td>Athina</td>\n",
       "      <td>Swimming</td>\n",
       "      <td>Swimming Men's 4 x 200 metres Freestyle Relay</td>\n",
       "      <td>Gold</td>\n",
       "    </tr>\n",
       "    <tr>\n",
       "      <th>187891</th>\n",
       "      <td>Michael Fred Phelps, II</td>\n",
       "      <td>M</td>\n",
       "      <td>19.0</td>\n",
       "      <td>193.0</td>\n",
       "      <td>91.0</td>\n",
       "      <td>United States</td>\n",
       "      <td>USA</td>\n",
       "      <td>2004 Summer</td>\n",
       "      <td>2004</td>\n",
       "      <td>Summer</td>\n",
       "      <td>Athina</td>\n",
       "      <td>Swimming</td>\n",
       "      <td>Swimming Men's 100 metres Butterfly</td>\n",
       "      <td>Gold</td>\n",
       "    </tr>\n",
       "  </tbody>\n",
       "</table>\n",
       "</div>"
      ],
      "text/plain": [
       "                           Name Sex   Age  Height  Weight           Team  NOC  \\\n",
       "187887  Michael Fred Phelps, II   M  15.0   193.0    91.0  United States  USA   \n",
       "187888  Michael Fred Phelps, II   M  19.0   193.0    91.0  United States  USA   \n",
       "187889  Michael Fred Phelps, II   M  19.0   193.0    91.0  United States  USA   \n",
       "187890  Michael Fred Phelps, II   M  19.0   193.0    91.0  United States  USA   \n",
       "187891  Michael Fred Phelps, II   M  19.0   193.0    91.0  United States  USA   \n",
       "\n",
       "              Games  Year  Season    City     Sport  \\\n",
       "187887  2000 Summer  2000  Summer  Sydney  Swimming   \n",
       "187888  2004 Summer  2004  Summer  Athina  Swimming   \n",
       "187889  2004 Summer  2004  Summer  Athina  Swimming   \n",
       "187890  2004 Summer  2004  Summer  Athina  Swimming   \n",
       "187891  2004 Summer  2004  Summer  Athina  Swimming   \n",
       "\n",
       "                                                Event     Medal  \n",
       "187887            Swimming Men's 200 metres Butterfly  No Medal  \n",
       "187888            Swimming Men's 200 metres Freestyle    Bronze  \n",
       "187889  Swimming Men's 4 x 100 metres Freestyle Relay    Bronze  \n",
       "187890  Swimming Men's 4 x 200 metres Freestyle Relay      Gold  \n",
       "187891            Swimming Men's 100 metres Butterfly      Gold  "
      ]
     },
     "execution_count": 92,
     "metadata": {},
     "output_type": "execute_result"
    }
   ],
   "source": [
    "Michael_Fred_Phelps.head(5) #See first five  rows"
   ]
  },
  {
   "cell_type": "code",
   "execution_count": 93,
   "metadata": {},
   "outputs": [],
   "source": [
    "#Medals - Group by Year\n",
    "Michael_Fred_Phelps_Medals = Michael_Fred_Phelps.groupby(\"Year\")[\"Medal\"].value_counts()"
   ]
  },
  {
   "cell_type": "code",
   "execution_count": 94,
   "metadata": {
    "scrolled": true
   },
   "outputs": [
    {
     "data": {
      "text/html": [
       "<div>\n",
       "<style scoped>\n",
       "    .dataframe tbody tr th:only-of-type {\n",
       "        vertical-align: middle;\n",
       "    }\n",
       "\n",
       "    .dataframe tbody tr th {\n",
       "        vertical-align: top;\n",
       "    }\n",
       "\n",
       "    .dataframe thead th {\n",
       "        text-align: right;\n",
       "    }\n",
       "</style>\n",
       "<table border=\"1\" class=\"dataframe\">\n",
       "  <thead>\n",
       "    <tr style=\"text-align: right;\">\n",
       "      <th></th>\n",
       "      <th>Name</th>\n",
       "      <th>Sex</th>\n",
       "      <th>Age</th>\n",
       "      <th>Height</th>\n",
       "      <th>Weight</th>\n",
       "      <th>Team</th>\n",
       "      <th>NOC</th>\n",
       "      <th>Games</th>\n",
       "      <th>Year</th>\n",
       "      <th>Season</th>\n",
       "      <th>City</th>\n",
       "      <th>Sport</th>\n",
       "      <th>Event</th>\n",
       "      <th>Medal</th>\n",
       "    </tr>\n",
       "  </thead>\n",
       "  <tbody>\n",
       "    <tr>\n",
       "      <th>187887</th>\n",
       "      <td>Michael Fred Phelps, II</td>\n",
       "      <td>M</td>\n",
       "      <td>15.0</td>\n",
       "      <td>193.0</td>\n",
       "      <td>91.0</td>\n",
       "      <td>United States</td>\n",
       "      <td>USA</td>\n",
       "      <td>2000 Summer</td>\n",
       "      <td>2000</td>\n",
       "      <td>Summer</td>\n",
       "      <td>Sydney</td>\n",
       "      <td>Swimming</td>\n",
       "      <td>Swimming Men's 200 metres Butterfly</td>\n",
       "      <td>No Medal</td>\n",
       "    </tr>\n",
       "    <tr>\n",
       "      <th>187888</th>\n",
       "      <td>Michael Fred Phelps, II</td>\n",
       "      <td>M</td>\n",
       "      <td>19.0</td>\n",
       "      <td>193.0</td>\n",
       "      <td>91.0</td>\n",
       "      <td>United States</td>\n",
       "      <td>USA</td>\n",
       "      <td>2004 Summer</td>\n",
       "      <td>2004</td>\n",
       "      <td>Summer</td>\n",
       "      <td>Athina</td>\n",
       "      <td>Swimming</td>\n",
       "      <td>Swimming Men's 200 metres Freestyle</td>\n",
       "      <td>Bronze</td>\n",
       "    </tr>\n",
       "    <tr>\n",
       "      <th>187889</th>\n",
       "      <td>Michael Fred Phelps, II</td>\n",
       "      <td>M</td>\n",
       "      <td>19.0</td>\n",
       "      <td>193.0</td>\n",
       "      <td>91.0</td>\n",
       "      <td>United States</td>\n",
       "      <td>USA</td>\n",
       "      <td>2004 Summer</td>\n",
       "      <td>2004</td>\n",
       "      <td>Summer</td>\n",
       "      <td>Athina</td>\n",
       "      <td>Swimming</td>\n",
       "      <td>Swimming Men's 4 x 100 metres Freestyle Relay</td>\n",
       "      <td>Bronze</td>\n",
       "    </tr>\n",
       "    <tr>\n",
       "      <th>187890</th>\n",
       "      <td>Michael Fred Phelps, II</td>\n",
       "      <td>M</td>\n",
       "      <td>19.0</td>\n",
       "      <td>193.0</td>\n",
       "      <td>91.0</td>\n",
       "      <td>United States</td>\n",
       "      <td>USA</td>\n",
       "      <td>2004 Summer</td>\n",
       "      <td>2004</td>\n",
       "      <td>Summer</td>\n",
       "      <td>Athina</td>\n",
       "      <td>Swimming</td>\n",
       "      <td>Swimming Men's 4 x 200 metres Freestyle Relay</td>\n",
       "      <td>Gold</td>\n",
       "    </tr>\n",
       "    <tr>\n",
       "      <th>187891</th>\n",
       "      <td>Michael Fred Phelps, II</td>\n",
       "      <td>M</td>\n",
       "      <td>19.0</td>\n",
       "      <td>193.0</td>\n",
       "      <td>91.0</td>\n",
       "      <td>United States</td>\n",
       "      <td>USA</td>\n",
       "      <td>2004 Summer</td>\n",
       "      <td>2004</td>\n",
       "      <td>Summer</td>\n",
       "      <td>Athina</td>\n",
       "      <td>Swimming</td>\n",
       "      <td>Swimming Men's 100 metres Butterfly</td>\n",
       "      <td>Gold</td>\n",
       "    </tr>\n",
       "    <tr>\n",
       "      <th>187892</th>\n",
       "      <td>Michael Fred Phelps, II</td>\n",
       "      <td>M</td>\n",
       "      <td>19.0</td>\n",
       "      <td>193.0</td>\n",
       "      <td>91.0</td>\n",
       "      <td>United States</td>\n",
       "      <td>USA</td>\n",
       "      <td>2004 Summer</td>\n",
       "      <td>2004</td>\n",
       "      <td>Summer</td>\n",
       "      <td>Athina</td>\n",
       "      <td>Swimming</td>\n",
       "      <td>Swimming Men's 200 metres Butterfly</td>\n",
       "      <td>Gold</td>\n",
       "    </tr>\n",
       "    <tr>\n",
       "      <th>187893</th>\n",
       "      <td>Michael Fred Phelps, II</td>\n",
       "      <td>M</td>\n",
       "      <td>19.0</td>\n",
       "      <td>193.0</td>\n",
       "      <td>91.0</td>\n",
       "      <td>United States</td>\n",
       "      <td>USA</td>\n",
       "      <td>2004 Summer</td>\n",
       "      <td>2004</td>\n",
       "      <td>Summer</td>\n",
       "      <td>Athina</td>\n",
       "      <td>Swimming</td>\n",
       "      <td>Swimming Men's 200 metres Individual Medley</td>\n",
       "      <td>Gold</td>\n",
       "    </tr>\n",
       "    <tr>\n",
       "      <th>187894</th>\n",
       "      <td>Michael Fred Phelps, II</td>\n",
       "      <td>M</td>\n",
       "      <td>19.0</td>\n",
       "      <td>193.0</td>\n",
       "      <td>91.0</td>\n",
       "      <td>United States</td>\n",
       "      <td>USA</td>\n",
       "      <td>2004 Summer</td>\n",
       "      <td>2004</td>\n",
       "      <td>Summer</td>\n",
       "      <td>Athina</td>\n",
       "      <td>Swimming</td>\n",
       "      <td>Swimming Men's 400 metres Individual Medley</td>\n",
       "      <td>Gold</td>\n",
       "    </tr>\n",
       "    <tr>\n",
       "      <th>187895</th>\n",
       "      <td>Michael Fred Phelps, II</td>\n",
       "      <td>M</td>\n",
       "      <td>19.0</td>\n",
       "      <td>193.0</td>\n",
       "      <td>91.0</td>\n",
       "      <td>United States</td>\n",
       "      <td>USA</td>\n",
       "      <td>2004 Summer</td>\n",
       "      <td>2004</td>\n",
       "      <td>Summer</td>\n",
       "      <td>Athina</td>\n",
       "      <td>Swimming</td>\n",
       "      <td>Swimming Men's 4 x 100 metres Medley Relay</td>\n",
       "      <td>Gold</td>\n",
       "    </tr>\n",
       "    <tr>\n",
       "      <th>187896</th>\n",
       "      <td>Michael Fred Phelps, II</td>\n",
       "      <td>M</td>\n",
       "      <td>23.0</td>\n",
       "      <td>193.0</td>\n",
       "      <td>91.0</td>\n",
       "      <td>United States</td>\n",
       "      <td>USA</td>\n",
       "      <td>2008 Summer</td>\n",
       "      <td>2008</td>\n",
       "      <td>Summer</td>\n",
       "      <td>Beijing</td>\n",
       "      <td>Swimming</td>\n",
       "      <td>Swimming Men's 200 metres Freestyle</td>\n",
       "      <td>Gold</td>\n",
       "    </tr>\n",
       "    <tr>\n",
       "      <th>187897</th>\n",
       "      <td>Michael Fred Phelps, II</td>\n",
       "      <td>M</td>\n",
       "      <td>23.0</td>\n",
       "      <td>193.0</td>\n",
       "      <td>91.0</td>\n",
       "      <td>United States</td>\n",
       "      <td>USA</td>\n",
       "      <td>2008 Summer</td>\n",
       "      <td>2008</td>\n",
       "      <td>Summer</td>\n",
       "      <td>Beijing</td>\n",
       "      <td>Swimming</td>\n",
       "      <td>Swimming Men's 4 x 100 metres Freestyle Relay</td>\n",
       "      <td>Gold</td>\n",
       "    </tr>\n",
       "    <tr>\n",
       "      <th>187898</th>\n",
       "      <td>Michael Fred Phelps, II</td>\n",
       "      <td>M</td>\n",
       "      <td>23.0</td>\n",
       "      <td>193.0</td>\n",
       "      <td>91.0</td>\n",
       "      <td>United States</td>\n",
       "      <td>USA</td>\n",
       "      <td>2008 Summer</td>\n",
       "      <td>2008</td>\n",
       "      <td>Summer</td>\n",
       "      <td>Beijing</td>\n",
       "      <td>Swimming</td>\n",
       "      <td>Swimming Men's 4 x 200 metres Freestyle Relay</td>\n",
       "      <td>Gold</td>\n",
       "    </tr>\n",
       "    <tr>\n",
       "      <th>187899</th>\n",
       "      <td>Michael Fred Phelps, II</td>\n",
       "      <td>M</td>\n",
       "      <td>23.0</td>\n",
       "      <td>193.0</td>\n",
       "      <td>91.0</td>\n",
       "      <td>United States</td>\n",
       "      <td>USA</td>\n",
       "      <td>2008 Summer</td>\n",
       "      <td>2008</td>\n",
       "      <td>Summer</td>\n",
       "      <td>Beijing</td>\n",
       "      <td>Swimming</td>\n",
       "      <td>Swimming Men's 100 metres Butterfly</td>\n",
       "      <td>Gold</td>\n",
       "    </tr>\n",
       "    <tr>\n",
       "      <th>187900</th>\n",
       "      <td>Michael Fred Phelps, II</td>\n",
       "      <td>M</td>\n",
       "      <td>23.0</td>\n",
       "      <td>193.0</td>\n",
       "      <td>91.0</td>\n",
       "      <td>United States</td>\n",
       "      <td>USA</td>\n",
       "      <td>2008 Summer</td>\n",
       "      <td>2008</td>\n",
       "      <td>Summer</td>\n",
       "      <td>Beijing</td>\n",
       "      <td>Swimming</td>\n",
       "      <td>Swimming Men's 200 metres Butterfly</td>\n",
       "      <td>Gold</td>\n",
       "    </tr>\n",
       "    <tr>\n",
       "      <th>187901</th>\n",
       "      <td>Michael Fred Phelps, II</td>\n",
       "      <td>M</td>\n",
       "      <td>23.0</td>\n",
       "      <td>193.0</td>\n",
       "      <td>91.0</td>\n",
       "      <td>United States</td>\n",
       "      <td>USA</td>\n",
       "      <td>2008 Summer</td>\n",
       "      <td>2008</td>\n",
       "      <td>Summer</td>\n",
       "      <td>Beijing</td>\n",
       "      <td>Swimming</td>\n",
       "      <td>Swimming Men's 200 metres Individual Medley</td>\n",
       "      <td>Gold</td>\n",
       "    </tr>\n",
       "    <tr>\n",
       "      <th>187902</th>\n",
       "      <td>Michael Fred Phelps, II</td>\n",
       "      <td>M</td>\n",
       "      <td>23.0</td>\n",
       "      <td>193.0</td>\n",
       "      <td>91.0</td>\n",
       "      <td>United States</td>\n",
       "      <td>USA</td>\n",
       "      <td>2008 Summer</td>\n",
       "      <td>2008</td>\n",
       "      <td>Summer</td>\n",
       "      <td>Beijing</td>\n",
       "      <td>Swimming</td>\n",
       "      <td>Swimming Men's 400 metres Individual Medley</td>\n",
       "      <td>Gold</td>\n",
       "    </tr>\n",
       "    <tr>\n",
       "      <th>187903</th>\n",
       "      <td>Michael Fred Phelps, II</td>\n",
       "      <td>M</td>\n",
       "      <td>23.0</td>\n",
       "      <td>193.0</td>\n",
       "      <td>91.0</td>\n",
       "      <td>United States</td>\n",
       "      <td>USA</td>\n",
       "      <td>2008 Summer</td>\n",
       "      <td>2008</td>\n",
       "      <td>Summer</td>\n",
       "      <td>Beijing</td>\n",
       "      <td>Swimming</td>\n",
       "      <td>Swimming Men's 4 x 100 metres Medley Relay</td>\n",
       "      <td>Gold</td>\n",
       "    </tr>\n",
       "    <tr>\n",
       "      <th>187904</th>\n",
       "      <td>Michael Fred Phelps, II</td>\n",
       "      <td>M</td>\n",
       "      <td>27.0</td>\n",
       "      <td>193.0</td>\n",
       "      <td>91.0</td>\n",
       "      <td>United States</td>\n",
       "      <td>USA</td>\n",
       "      <td>2012 Summer</td>\n",
       "      <td>2012</td>\n",
       "      <td>Summer</td>\n",
       "      <td>London</td>\n",
       "      <td>Swimming</td>\n",
       "      <td>Swimming Men's 4 x 100 metres Freestyle Relay</td>\n",
       "      <td>Silver</td>\n",
       "    </tr>\n",
       "    <tr>\n",
       "      <th>187905</th>\n",
       "      <td>Michael Fred Phelps, II</td>\n",
       "      <td>M</td>\n",
       "      <td>27.0</td>\n",
       "      <td>193.0</td>\n",
       "      <td>91.0</td>\n",
       "      <td>United States</td>\n",
       "      <td>USA</td>\n",
       "      <td>2012 Summer</td>\n",
       "      <td>2012</td>\n",
       "      <td>Summer</td>\n",
       "      <td>London</td>\n",
       "      <td>Swimming</td>\n",
       "      <td>Swimming Men's 4 x 200 metres Freestyle Relay</td>\n",
       "      <td>Gold</td>\n",
       "    </tr>\n",
       "    <tr>\n",
       "      <th>187906</th>\n",
       "      <td>Michael Fred Phelps, II</td>\n",
       "      <td>M</td>\n",
       "      <td>27.0</td>\n",
       "      <td>193.0</td>\n",
       "      <td>91.0</td>\n",
       "      <td>United States</td>\n",
       "      <td>USA</td>\n",
       "      <td>2012 Summer</td>\n",
       "      <td>2012</td>\n",
       "      <td>Summer</td>\n",
       "      <td>London</td>\n",
       "      <td>Swimming</td>\n",
       "      <td>Swimming Men's 100 metres Butterfly</td>\n",
       "      <td>Gold</td>\n",
       "    </tr>\n",
       "    <tr>\n",
       "      <th>187907</th>\n",
       "      <td>Michael Fred Phelps, II</td>\n",
       "      <td>M</td>\n",
       "      <td>27.0</td>\n",
       "      <td>193.0</td>\n",
       "      <td>91.0</td>\n",
       "      <td>United States</td>\n",
       "      <td>USA</td>\n",
       "      <td>2012 Summer</td>\n",
       "      <td>2012</td>\n",
       "      <td>Summer</td>\n",
       "      <td>London</td>\n",
       "      <td>Swimming</td>\n",
       "      <td>Swimming Men's 200 metres Butterfly</td>\n",
       "      <td>Silver</td>\n",
       "    </tr>\n",
       "    <tr>\n",
       "      <th>187908</th>\n",
       "      <td>Michael Fred Phelps, II</td>\n",
       "      <td>M</td>\n",
       "      <td>27.0</td>\n",
       "      <td>193.0</td>\n",
       "      <td>91.0</td>\n",
       "      <td>United States</td>\n",
       "      <td>USA</td>\n",
       "      <td>2012 Summer</td>\n",
       "      <td>2012</td>\n",
       "      <td>Summer</td>\n",
       "      <td>London</td>\n",
       "      <td>Swimming</td>\n",
       "      <td>Swimming Men's 200 metres Individual Medley</td>\n",
       "      <td>Gold</td>\n",
       "    </tr>\n",
       "    <tr>\n",
       "      <th>187909</th>\n",
       "      <td>Michael Fred Phelps, II</td>\n",
       "      <td>M</td>\n",
       "      <td>27.0</td>\n",
       "      <td>193.0</td>\n",
       "      <td>91.0</td>\n",
       "      <td>United States</td>\n",
       "      <td>USA</td>\n",
       "      <td>2012 Summer</td>\n",
       "      <td>2012</td>\n",
       "      <td>Summer</td>\n",
       "      <td>London</td>\n",
       "      <td>Swimming</td>\n",
       "      <td>Swimming Men's 400 metres Individual Medley</td>\n",
       "      <td>No Medal</td>\n",
       "    </tr>\n",
       "    <tr>\n",
       "      <th>187910</th>\n",
       "      <td>Michael Fred Phelps, II</td>\n",
       "      <td>M</td>\n",
       "      <td>27.0</td>\n",
       "      <td>193.0</td>\n",
       "      <td>91.0</td>\n",
       "      <td>United States</td>\n",
       "      <td>USA</td>\n",
       "      <td>2012 Summer</td>\n",
       "      <td>2012</td>\n",
       "      <td>Summer</td>\n",
       "      <td>London</td>\n",
       "      <td>Swimming</td>\n",
       "      <td>Swimming Men's 4 x 100 metres Medley Relay</td>\n",
       "      <td>Gold</td>\n",
       "    </tr>\n",
       "    <tr>\n",
       "      <th>187911</th>\n",
       "      <td>Michael Fred Phelps, II</td>\n",
       "      <td>M</td>\n",
       "      <td>31.0</td>\n",
       "      <td>193.0</td>\n",
       "      <td>91.0</td>\n",
       "      <td>United States</td>\n",
       "      <td>USA</td>\n",
       "      <td>2016 Summer</td>\n",
       "      <td>2016</td>\n",
       "      <td>Summer</td>\n",
       "      <td>Rio de Janeiro</td>\n",
       "      <td>Swimming</td>\n",
       "      <td>Swimming Men's 4 x 100 metres Freestyle Relay</td>\n",
       "      <td>Gold</td>\n",
       "    </tr>\n",
       "    <tr>\n",
       "      <th>187912</th>\n",
       "      <td>Michael Fred Phelps, II</td>\n",
       "      <td>M</td>\n",
       "      <td>31.0</td>\n",
       "      <td>193.0</td>\n",
       "      <td>91.0</td>\n",
       "      <td>United States</td>\n",
       "      <td>USA</td>\n",
       "      <td>2016 Summer</td>\n",
       "      <td>2016</td>\n",
       "      <td>Summer</td>\n",
       "      <td>Rio de Janeiro</td>\n",
       "      <td>Swimming</td>\n",
       "      <td>Swimming Men's 4 x 200 metres Freestyle Relay</td>\n",
       "      <td>Gold</td>\n",
       "    </tr>\n",
       "    <tr>\n",
       "      <th>187913</th>\n",
       "      <td>Michael Fred Phelps, II</td>\n",
       "      <td>M</td>\n",
       "      <td>31.0</td>\n",
       "      <td>193.0</td>\n",
       "      <td>91.0</td>\n",
       "      <td>United States</td>\n",
       "      <td>USA</td>\n",
       "      <td>2016 Summer</td>\n",
       "      <td>2016</td>\n",
       "      <td>Summer</td>\n",
       "      <td>Rio de Janeiro</td>\n",
       "      <td>Swimming</td>\n",
       "      <td>Swimming Men's 100 metres Butterfly</td>\n",
       "      <td>Silver</td>\n",
       "    </tr>\n",
       "    <tr>\n",
       "      <th>187914</th>\n",
       "      <td>Michael Fred Phelps, II</td>\n",
       "      <td>M</td>\n",
       "      <td>31.0</td>\n",
       "      <td>193.0</td>\n",
       "      <td>91.0</td>\n",
       "      <td>United States</td>\n",
       "      <td>USA</td>\n",
       "      <td>2016 Summer</td>\n",
       "      <td>2016</td>\n",
       "      <td>Summer</td>\n",
       "      <td>Rio de Janeiro</td>\n",
       "      <td>Swimming</td>\n",
       "      <td>Swimming Men's 200 metres Butterfly</td>\n",
       "      <td>Gold</td>\n",
       "    </tr>\n",
       "    <tr>\n",
       "      <th>187915</th>\n",
       "      <td>Michael Fred Phelps, II</td>\n",
       "      <td>M</td>\n",
       "      <td>31.0</td>\n",
       "      <td>193.0</td>\n",
       "      <td>91.0</td>\n",
       "      <td>United States</td>\n",
       "      <td>USA</td>\n",
       "      <td>2016 Summer</td>\n",
       "      <td>2016</td>\n",
       "      <td>Summer</td>\n",
       "      <td>Rio de Janeiro</td>\n",
       "      <td>Swimming</td>\n",
       "      <td>Swimming Men's 200 metres Individual Medley</td>\n",
       "      <td>Gold</td>\n",
       "    </tr>\n",
       "    <tr>\n",
       "      <th>187916</th>\n",
       "      <td>Michael Fred Phelps, II</td>\n",
       "      <td>M</td>\n",
       "      <td>31.0</td>\n",
       "      <td>193.0</td>\n",
       "      <td>91.0</td>\n",
       "      <td>United States</td>\n",
       "      <td>USA</td>\n",
       "      <td>2016 Summer</td>\n",
       "      <td>2016</td>\n",
       "      <td>Summer</td>\n",
       "      <td>Rio de Janeiro</td>\n",
       "      <td>Swimming</td>\n",
       "      <td>Swimming Men's 4 x 100 metres Medley Relay</td>\n",
       "      <td>Gold</td>\n",
       "    </tr>\n",
       "  </tbody>\n",
       "</table>\n",
       "</div>"
      ],
      "text/plain": [
       "                           Name Sex   Age  Height  Weight           Team  NOC  \\\n",
       "187887  Michael Fred Phelps, II   M  15.0   193.0    91.0  United States  USA   \n",
       "187888  Michael Fred Phelps, II   M  19.0   193.0    91.0  United States  USA   \n",
       "187889  Michael Fred Phelps, II   M  19.0   193.0    91.0  United States  USA   \n",
       "187890  Michael Fred Phelps, II   M  19.0   193.0    91.0  United States  USA   \n",
       "187891  Michael Fred Phelps, II   M  19.0   193.0    91.0  United States  USA   \n",
       "187892  Michael Fred Phelps, II   M  19.0   193.0    91.0  United States  USA   \n",
       "187893  Michael Fred Phelps, II   M  19.0   193.0    91.0  United States  USA   \n",
       "187894  Michael Fred Phelps, II   M  19.0   193.0    91.0  United States  USA   \n",
       "187895  Michael Fred Phelps, II   M  19.0   193.0    91.0  United States  USA   \n",
       "187896  Michael Fred Phelps, II   M  23.0   193.0    91.0  United States  USA   \n",
       "187897  Michael Fred Phelps, II   M  23.0   193.0    91.0  United States  USA   \n",
       "187898  Michael Fred Phelps, II   M  23.0   193.0    91.0  United States  USA   \n",
       "187899  Michael Fred Phelps, II   M  23.0   193.0    91.0  United States  USA   \n",
       "187900  Michael Fred Phelps, II   M  23.0   193.0    91.0  United States  USA   \n",
       "187901  Michael Fred Phelps, II   M  23.0   193.0    91.0  United States  USA   \n",
       "187902  Michael Fred Phelps, II   M  23.0   193.0    91.0  United States  USA   \n",
       "187903  Michael Fred Phelps, II   M  23.0   193.0    91.0  United States  USA   \n",
       "187904  Michael Fred Phelps, II   M  27.0   193.0    91.0  United States  USA   \n",
       "187905  Michael Fred Phelps, II   M  27.0   193.0    91.0  United States  USA   \n",
       "187906  Michael Fred Phelps, II   M  27.0   193.0    91.0  United States  USA   \n",
       "187907  Michael Fred Phelps, II   M  27.0   193.0    91.0  United States  USA   \n",
       "187908  Michael Fred Phelps, II   M  27.0   193.0    91.0  United States  USA   \n",
       "187909  Michael Fred Phelps, II   M  27.0   193.0    91.0  United States  USA   \n",
       "187910  Michael Fred Phelps, II   M  27.0   193.0    91.0  United States  USA   \n",
       "187911  Michael Fred Phelps, II   M  31.0   193.0    91.0  United States  USA   \n",
       "187912  Michael Fred Phelps, II   M  31.0   193.0    91.0  United States  USA   \n",
       "187913  Michael Fred Phelps, II   M  31.0   193.0    91.0  United States  USA   \n",
       "187914  Michael Fred Phelps, II   M  31.0   193.0    91.0  United States  USA   \n",
       "187915  Michael Fred Phelps, II   M  31.0   193.0    91.0  United States  USA   \n",
       "187916  Michael Fred Phelps, II   M  31.0   193.0    91.0  United States  USA   \n",
       "\n",
       "              Games  Year  Season            City     Sport  \\\n",
       "187887  2000 Summer  2000  Summer          Sydney  Swimming   \n",
       "187888  2004 Summer  2004  Summer          Athina  Swimming   \n",
       "187889  2004 Summer  2004  Summer          Athina  Swimming   \n",
       "187890  2004 Summer  2004  Summer          Athina  Swimming   \n",
       "187891  2004 Summer  2004  Summer          Athina  Swimming   \n",
       "187892  2004 Summer  2004  Summer          Athina  Swimming   \n",
       "187893  2004 Summer  2004  Summer          Athina  Swimming   \n",
       "187894  2004 Summer  2004  Summer          Athina  Swimming   \n",
       "187895  2004 Summer  2004  Summer          Athina  Swimming   \n",
       "187896  2008 Summer  2008  Summer         Beijing  Swimming   \n",
       "187897  2008 Summer  2008  Summer         Beijing  Swimming   \n",
       "187898  2008 Summer  2008  Summer         Beijing  Swimming   \n",
       "187899  2008 Summer  2008  Summer         Beijing  Swimming   \n",
       "187900  2008 Summer  2008  Summer         Beijing  Swimming   \n",
       "187901  2008 Summer  2008  Summer         Beijing  Swimming   \n",
       "187902  2008 Summer  2008  Summer         Beijing  Swimming   \n",
       "187903  2008 Summer  2008  Summer         Beijing  Swimming   \n",
       "187904  2012 Summer  2012  Summer          London  Swimming   \n",
       "187905  2012 Summer  2012  Summer          London  Swimming   \n",
       "187906  2012 Summer  2012  Summer          London  Swimming   \n",
       "187907  2012 Summer  2012  Summer          London  Swimming   \n",
       "187908  2012 Summer  2012  Summer          London  Swimming   \n",
       "187909  2012 Summer  2012  Summer          London  Swimming   \n",
       "187910  2012 Summer  2012  Summer          London  Swimming   \n",
       "187911  2016 Summer  2016  Summer  Rio de Janeiro  Swimming   \n",
       "187912  2016 Summer  2016  Summer  Rio de Janeiro  Swimming   \n",
       "187913  2016 Summer  2016  Summer  Rio de Janeiro  Swimming   \n",
       "187914  2016 Summer  2016  Summer  Rio de Janeiro  Swimming   \n",
       "187915  2016 Summer  2016  Summer  Rio de Janeiro  Swimming   \n",
       "187916  2016 Summer  2016  Summer  Rio de Janeiro  Swimming   \n",
       "\n",
       "                                                Event     Medal  \n",
       "187887            Swimming Men's 200 metres Butterfly  No Medal  \n",
       "187888            Swimming Men's 200 metres Freestyle    Bronze  \n",
       "187889  Swimming Men's 4 x 100 metres Freestyle Relay    Bronze  \n",
       "187890  Swimming Men's 4 x 200 metres Freestyle Relay      Gold  \n",
       "187891            Swimming Men's 100 metres Butterfly      Gold  \n",
       "187892            Swimming Men's 200 metres Butterfly      Gold  \n",
       "187893    Swimming Men's 200 metres Individual Medley      Gold  \n",
       "187894    Swimming Men's 400 metres Individual Medley      Gold  \n",
       "187895     Swimming Men's 4 x 100 metres Medley Relay      Gold  \n",
       "187896            Swimming Men's 200 metres Freestyle      Gold  \n",
       "187897  Swimming Men's 4 x 100 metres Freestyle Relay      Gold  \n",
       "187898  Swimming Men's 4 x 200 metres Freestyle Relay      Gold  \n",
       "187899            Swimming Men's 100 metres Butterfly      Gold  \n",
       "187900            Swimming Men's 200 metres Butterfly      Gold  \n",
       "187901    Swimming Men's 200 metres Individual Medley      Gold  \n",
       "187902    Swimming Men's 400 metres Individual Medley      Gold  \n",
       "187903     Swimming Men's 4 x 100 metres Medley Relay      Gold  \n",
       "187904  Swimming Men's 4 x 100 metres Freestyle Relay    Silver  \n",
       "187905  Swimming Men's 4 x 200 metres Freestyle Relay      Gold  \n",
       "187906            Swimming Men's 100 metres Butterfly      Gold  \n",
       "187907            Swimming Men's 200 metres Butterfly    Silver  \n",
       "187908    Swimming Men's 200 metres Individual Medley      Gold  \n",
       "187909    Swimming Men's 400 metres Individual Medley  No Medal  \n",
       "187910     Swimming Men's 4 x 100 metres Medley Relay      Gold  \n",
       "187911  Swimming Men's 4 x 100 metres Freestyle Relay      Gold  \n",
       "187912  Swimming Men's 4 x 200 metres Freestyle Relay      Gold  \n",
       "187913            Swimming Men's 100 metres Butterfly    Silver  \n",
       "187914            Swimming Men's 200 metres Butterfly      Gold  \n",
       "187915    Swimming Men's 200 metres Individual Medley      Gold  \n",
       "187916     Swimming Men's 4 x 100 metres Medley Relay      Gold  "
      ]
     },
     "execution_count": 94,
     "metadata": {},
     "output_type": "execute_result"
    }
   ],
   "source": [
    "Michael_Fred_Phelps"
   ]
  },
  {
   "cell_type": "markdown",
   "metadata": {},
   "source": [
    "> #### Below is a pie chart representation of Michael Fred Phelps Medals."
   ]
  },
  {
   "cell_type": "code",
   "execution_count": 95,
   "metadata": {
    "scrolled": true
   },
   "outputs": [
    {
     "data": {
      "image/png": "[encoded data removed]",
      "text/plain": [
       "<Figure size 720x360 with 1 Axes>"
      ]
     },
     "metadata": {},
     "output_type": "display_data"
    }
   ],
   "source": [
    "#Michael Fred Phelps Medals\n",
    "\n",
    "plt.figure(figsize = (10,5))\n",
    "Mich = Michael_Fred_Phelps_Medals\n",
    "Mich_indx = Michael_Fred_Phelps_Medals.index\n",
    "\n",
    "plt.pie(Mich, labels = Mich_indx ,autopct='%1.1f%%', startangle=90,shadow = True,explode = [0,0,0,0.1,0,0,0,0,0]);\n",
    "\n",
    "plt.title(\"Michael Fred Phelps Medals\",fontsize= 14);\n",
    "\n"
   ]
  },
  {
   "cell_type": "markdown",
   "metadata": {},
   "source": [
    "> #### Below is a line graph representation of Michael Fred Phelps weight in all  his olympic games"
   ]
  },
  {
   "cell_type": "code",
   "execution_count": 96,
   "metadata": {},
   "outputs": [],
   "source": [
    "Years_appeared = Michael_Fred_Phelps.Year\n",
    "Weight = Michael_Fred_Phelps.Weight"
   ]
  },
  {
   "cell_type": "code",
   "execution_count": 97,
   "metadata": {
    "scrolled": true
   },
   "outputs": [
    {
     "data": {
      "image/png": "[encoded data removed]",
      "text/plain": [
       "<Figure size 432x288 with 1 Axes>"
      ]
     },
     "metadata": {},
     "output_type": "display_data"
    }
   ],
   "source": [
    "sns.set_style(\"darkgrid\")\n",
    "plt.plot(Years_appeared,Weight,\"r-*\");\n",
    "\n",
    "plt.xlabel(\"Year\")\n",
    "plt.ylabel(\"Weight\")\n",
    "plt.title(\"Michael's Weight  in all games\")\n",
    "plt.legend ([\"Phelp\"]);"
   ]
  },
  {
   "cell_type": "markdown",
   "metadata": {},
   "source": [
    "### Q4: Which team has won most Gold medals?"
   ]
  },
  {
   "cell_type": "code",
   "execution_count": 98,
   "metadata": {
    "scrolled": true
   },
   "outputs": [
    {
     "data": {
      "text/plain": [
       "United States    2474\n",
       "Soviet Union     1058\n",
       "Germany           679\n",
       "Italy             535\n",
       "Great Britain     519\n",
       "                 ... \n",
       "Ecuador             1\n",
       "Singapore           1\n",
       "Baby-1              1\n",
       "Cote d'Ivoire       1\n",
       "Kosovo              1\n",
       "Name: Team, Length: 242, dtype: int64"
      ]
     },
     "execution_count": 98,
     "metadata": {},
     "output_type": "execute_result"
    }
   ],
   "source": [
    "gold_medals = olympics_df[\"Medal\"] == \"Gold\"\n",
    "olympics_df.loc[gold_medals,\"Team\"].value_counts()"
   ]
  },
  {
   "cell_type": "markdown",
   "metadata": {},
   "source": [
    "* Team United States has won most gold medal in  olympics history"
   ]
  },
  {
   "cell_type": "code",
   "execution_count": 99,
   "metadata": {
    "scrolled": true
   },
   "outputs": [],
   "source": [
    "#Get United  States  Gold Medals\n",
    "United_State_gold_medals = (olympics_df[\"Medal\"] == \"Gold\") & (olympics_df[\"Team\"] == \"United States\")"
   ]
  },
  {
   "cell_type": "code",
   "execution_count": 100,
   "metadata": {
    "scrolled": false
   },
   "outputs": [
    {
     "data": {
      "text/html": [
       "<div>\n",
       "<style scoped>\n",
       "    .dataframe tbody tr th:only-of-type {\n",
       "        vertical-align: middle;\n",
       "    }\n",
       "\n",
       "    .dataframe tbody tr th {\n",
       "        vertical-align: top;\n",
       "    }\n",
       "\n",
       "    .dataframe thead th {\n",
       "        text-align: right;\n",
       "    }\n",
       "</style>\n",
       "<table border=\"1\" class=\"dataframe\">\n",
       "  <thead>\n",
       "    <tr style=\"text-align: right;\">\n",
       "      <th></th>\n",
       "      <th>Name</th>\n",
       "      <th>Sex</th>\n",
       "      <th>Age</th>\n",
       "      <th>Height</th>\n",
       "      <th>Weight</th>\n",
       "      <th>Team</th>\n",
       "      <th>NOC</th>\n",
       "      <th>Games</th>\n",
       "      <th>Year</th>\n",
       "      <th>Season</th>\n",
       "      <th>City</th>\n",
       "      <th>Sport</th>\n",
       "      <th>Event</th>\n",
       "      <th>Medal</th>\n",
       "    </tr>\n",
       "  </thead>\n",
       "  <tbody>\n",
       "    <tr>\n",
       "      <th>283</th>\n",
       "      <td>Margaret Ives Abbott (-Dunne)</td>\n",
       "      <td>F</td>\n",
       "      <td>23.0</td>\n",
       "      <td>NaN</td>\n",
       "      <td>NaN</td>\n",
       "      <td>United States</td>\n",
       "      <td>USA</td>\n",
       "      <td>1900 Summer</td>\n",
       "      <td>1900</td>\n",
       "      <td>Summer</td>\n",
       "      <td>Paris</td>\n",
       "      <td>Golf</td>\n",
       "      <td>Golf Women's Individual</td>\n",
       "      <td>Gold</td>\n",
       "    </tr>\n",
       "    <tr>\n",
       "      <th>609</th>\n",
       "      <td>Julius Shareef Abdur-Rahim</td>\n",
       "      <td>M</td>\n",
       "      <td>23.0</td>\n",
       "      <td>202.0</td>\n",
       "      <td>104.0</td>\n",
       "      <td>United States</td>\n",
       "      <td>USA</td>\n",
       "      <td>2000 Summer</td>\n",
       "      <td>2000</td>\n",
       "      <td>Summer</td>\n",
       "      <td>Sydney</td>\n",
       "      <td>Basketball</td>\n",
       "      <td>Basketball Men's Basketball</td>\n",
       "      <td>Gold</td>\n",
       "    </tr>\n",
       "    <tr>\n",
       "      <th>739</th>\n",
       "      <td>Michael Brent Abernathy</td>\n",
       "      <td>M</td>\n",
       "      <td>22.0</td>\n",
       "      <td>182.0</td>\n",
       "      <td>84.0</td>\n",
       "      <td>United States</td>\n",
       "      <td>USA</td>\n",
       "      <td>2000 Summer</td>\n",
       "      <td>2000</td>\n",
       "      <td>Summer</td>\n",
       "      <td>Sydney</td>\n",
       "      <td>Baseball</td>\n",
       "      <td>Baseball Men's Baseball</td>\n",
       "      <td>Gold</td>\n",
       "    </tr>\n",
       "    <tr>\n",
       "      <th>787</th>\n",
       "      <td>Edgar Allen \"Ed\" Ablowich</td>\n",
       "      <td>M</td>\n",
       "      <td>19.0</td>\n",
       "      <td>182.0</td>\n",
       "      <td>68.0</td>\n",
       "      <td>United States</td>\n",
       "      <td>USA</td>\n",
       "      <td>1932 Summer</td>\n",
       "      <td>1932</td>\n",
       "      <td>Summer</td>\n",
       "      <td>Los Angeles</td>\n",
       "      <td>Athletics</td>\n",
       "      <td>Athletics Men's 4 x 400 metres Relay</td>\n",
       "      <td>Gold</td>\n",
       "    </tr>\n",
       "    <tr>\n",
       "      <th>1239</th>\n",
       "      <td>Charles Edwin \"Charley\" Ackerly</td>\n",
       "      <td>M</td>\n",
       "      <td>22.0</td>\n",
       "      <td>NaN</td>\n",
       "      <td>NaN</td>\n",
       "      <td>United States</td>\n",
       "      <td>USA</td>\n",
       "      <td>1920 Summer</td>\n",
       "      <td>1920</td>\n",
       "      <td>Summer</td>\n",
       "      <td>Antwerpen</td>\n",
       "      <td>Wrestling</td>\n",
       "      <td>Wrestling Men's Featherweight, Freestyle</td>\n",
       "      <td>Gold</td>\n",
       "    </tr>\n",
       "    <tr>\n",
       "      <th>...</th>\n",
       "      <td>...</td>\n",
       "      <td>...</td>\n",
       "      <td>...</td>\n",
       "      <td>...</td>\n",
       "      <td>...</td>\n",
       "      <td>...</td>\n",
       "      <td>...</td>\n",
       "      <td>...</td>\n",
       "      <td>...</td>\n",
       "      <td>...</td>\n",
       "      <td>...</td>\n",
       "      <td>...</td>\n",
       "      <td>...</td>\n",
       "      <td>...</td>\n",
       "    </tr>\n",
       "    <tr>\n",
       "      <th>266319</th>\n",
       "      <td>Timothy R. \"Tim\" Young</td>\n",
       "      <td>M</td>\n",
       "      <td>26.0</td>\n",
       "      <td>172.0</td>\n",
       "      <td>77.0</td>\n",
       "      <td>United States</td>\n",
       "      <td>USA</td>\n",
       "      <td>2000 Summer</td>\n",
       "      <td>2000</td>\n",
       "      <td>Summer</td>\n",
       "      <td>Sydney</td>\n",
       "      <td>Baseball</td>\n",
       "      <td>Baseball Men's Baseball</td>\n",
       "      <td>Gold</td>\n",
       "    </tr>\n",
       "    <tr>\n",
       "      <th>267204</th>\n",
       "      <td>Mariel Leigh Zagunis</td>\n",
       "      <td>F</td>\n",
       "      <td>19.0</td>\n",
       "      <td>173.0</td>\n",
       "      <td>72.0</td>\n",
       "      <td>United States</td>\n",
       "      <td>USA</td>\n",
       "      <td>2004 Summer</td>\n",
       "      <td>2004</td>\n",
       "      <td>Summer</td>\n",
       "      <td>Athina</td>\n",
       "      <td>Fencing</td>\n",
       "      <td>Fencing Women's Sabre, Individual</td>\n",
       "      <td>Gold</td>\n",
       "    </tr>\n",
       "    <tr>\n",
       "      <th>267205</th>\n",
       "      <td>Mariel Leigh Zagunis</td>\n",
       "      <td>F</td>\n",
       "      <td>23.0</td>\n",
       "      <td>173.0</td>\n",
       "      <td>72.0</td>\n",
       "      <td>United States</td>\n",
       "      <td>USA</td>\n",
       "      <td>2008 Summer</td>\n",
       "      <td>2008</td>\n",
       "      <td>Summer</td>\n",
       "      <td>Beijing</td>\n",
       "      <td>Fencing</td>\n",
       "      <td>Fencing Women's Sabre, Individual</td>\n",
       "      <td>Gold</td>\n",
       "    </tr>\n",
       "    <tr>\n",
       "      <th>269922</th>\n",
       "      <td>Rbert Zimonyi</td>\n",
       "      <td>M</td>\n",
       "      <td>46.0</td>\n",
       "      <td>170.0</td>\n",
       "      <td>52.0</td>\n",
       "      <td>United States</td>\n",
       "      <td>USA</td>\n",
       "      <td>1964 Summer</td>\n",
       "      <td>1964</td>\n",
       "      <td>Summer</td>\n",
       "      <td>Tokyo</td>\n",
       "      <td>Rowing</td>\n",
       "      <td>Rowing Men's Coxed Eights</td>\n",
       "      <td>Gold</td>\n",
       "    </tr>\n",
       "    <tr>\n",
       "      <th>270394</th>\n",
       "      <td>Zachary \"Zac\" Zorn</td>\n",
       "      <td>M</td>\n",
       "      <td>21.0</td>\n",
       "      <td>193.0</td>\n",
       "      <td>86.0</td>\n",
       "      <td>United States</td>\n",
       "      <td>USA</td>\n",
       "      <td>1968 Summer</td>\n",
       "      <td>1968</td>\n",
       "      <td>Summer</td>\n",
       "      <td>Mexico City</td>\n",
       "      <td>Swimming</td>\n",
       "      <td>Swimming Men's 4 x 100 metres Freestyle Relay</td>\n",
       "      <td>Gold</td>\n",
       "    </tr>\n",
       "  </tbody>\n",
       "</table>\n",
       "<p>2474 rows × 14 columns</p>\n",
       "</div>"
      ],
      "text/plain": [
       "                                   Name Sex   Age  Height  Weight  \\\n",
       "283       Margaret Ives Abbott (-Dunne)   F  23.0     NaN     NaN   \n",
       "609          Julius Shareef Abdur-Rahim   M  23.0   202.0   104.0   \n",
       "739             Michael Brent Abernathy   M  22.0   182.0    84.0   \n",
       "787           Edgar Allen \"Ed\" Ablowich   M  19.0   182.0    68.0   \n",
       "1239    Charles Edwin \"Charley\" Ackerly   M  22.0     NaN     NaN   \n",
       "...                                 ...  ..   ...     ...     ...   \n",
       "266319           Timothy R. \"Tim\" Young   M  26.0   172.0    77.0   \n",
       "267204             Mariel Leigh Zagunis   F  19.0   173.0    72.0   \n",
       "267205             Mariel Leigh Zagunis   F  23.0   173.0    72.0   \n",
       "269922                    Rbert Zimonyi   M  46.0   170.0    52.0   \n",
       "270394               Zachary \"Zac\" Zorn   M  21.0   193.0    86.0   \n",
       "\n",
       "                 Team  NOC        Games  Year  Season         City  \\\n",
       "283     United States  USA  1900 Summer  1900  Summer        Paris   \n",
       "609     United States  USA  2000 Summer  2000  Summer       Sydney   \n",
       "739     United States  USA  2000 Summer  2000  Summer       Sydney   \n",
       "787     United States  USA  1932 Summer  1932  Summer  Los Angeles   \n",
       "1239    United States  USA  1920 Summer  1920  Summer    Antwerpen   \n",
       "...               ...  ...          ...   ...     ...          ...   \n",
       "266319  United States  USA  2000 Summer  2000  Summer       Sydney   \n",
       "267204  United States  USA  2004 Summer  2004  Summer       Athina   \n",
       "267205  United States  USA  2008 Summer  2008  Summer      Beijing   \n",
       "269922  United States  USA  1964 Summer  1964  Summer        Tokyo   \n",
       "270394  United States  USA  1968 Summer  1968  Summer  Mexico City   \n",
       "\n",
       "             Sport                                          Event Medal  \n",
       "283           Golf                        Golf Women's Individual  Gold  \n",
       "609     Basketball                    Basketball Men's Basketball  Gold  \n",
       "739       Baseball                        Baseball Men's Baseball  Gold  \n",
       "787      Athletics           Athletics Men's 4 x 400 metres Relay  Gold  \n",
       "1239     Wrestling       Wrestling Men's Featherweight, Freestyle  Gold  \n",
       "...            ...                                            ...   ...  \n",
       "266319    Baseball                        Baseball Men's Baseball  Gold  \n",
       "267204     Fencing              Fencing Women's Sabre, Individual  Gold  \n",
       "267205     Fencing              Fencing Women's Sabre, Individual  Gold  \n",
       "269922      Rowing                      Rowing Men's Coxed Eights  Gold  \n",
       "270394    Swimming  Swimming Men's 4 x 100 metres Freestyle Relay  Gold  \n",
       "\n",
       "[2474 rows x 14 columns]"
      ]
     },
     "execution_count": 100,
     "metadata": {},
     "output_type": "execute_result"
    }
   ],
   "source": [
    "US_gold_df = olympics_df.loc[United_State_gold_medals]\n",
    "US_gold_df"
   ]
  },
  {
   "cell_type": "markdown",
   "metadata": {},
   "source": [
    "### Q5:How many  gold medals has USA own in every olympic year?"
   ]
  },
  {
   "cell_type": "code",
   "execution_count": 101,
   "metadata": {
    "scrolled": false
   },
   "outputs": [
    {
     "data": {
      "text/plain": [
       "Year  Medal\n",
       "1984  Gold     190\n",
       "1996  Gold     157\n",
       "2012  Gold     139\n",
       "2016  Gold     137\n",
       "2000  Gold     128\n",
       "2008  Gold     121\n",
       "2004  Gold     115\n",
       "1920  Gold     111\n",
       "1968  Gold     100\n",
       "1960  Gold      97\n",
       "1964  Gold      96\n",
       "1924  Gold      92\n",
       "1992  Gold      92\n",
       "1988  Gold      89\n",
       "1948  Gold      82\n",
       "1952  Gold      77\n",
       "1976  Gold      73\n",
       "1972  Gold      72\n",
       "1932  Gold      71\n",
       "1904  Gold      65\n",
       "1956  Gold      61\n",
       "1936  Gold      51\n",
       "1928  Gold      48\n",
       "1912  Gold      46\n",
       "1908  Gold      34\n",
       "1998  Gold      25\n",
       "1980  Gold      24\n",
       "1900  Gold      18\n",
       "1906  Gold      12\n",
       "1896  Gold      11\n",
       "2002  Gold       9\n",
       "2006  Gold       9\n",
       "2010  Gold       8\n",
       "2014  Gold       8\n",
       "1994  Gold       6\n",
       "dtype: int64"
      ]
     },
     "execution_count": 101,
     "metadata": {},
     "output_type": "execute_result"
    }
   ],
   "source": [
    "#Gold Medal won every olympic year by Team USA\n",
    "\n",
    "golds_every_olympics = US_gold_df[[\"Year\",\"Medal\"]]\n",
    "golds_every_olympics.value_counts()\n"
   ]
  },
  {
   "cell_type": "markdown",
   "metadata": {},
   "source": [
    "> ### Below is a horizontal bargraph representatin of top ten teams with most medals"
   ]
  },
  {
   "cell_type": "code",
   "execution_count": 102,
   "metadata": {
    "scrolled": true
   },
   "outputs": [
    {
     "data": {
      "image/png": "[encoded data removed]",
      "text/plain": [
       "<Figure size 432x288 with 1 Axes>"
      ]
     },
     "metadata": {},
     "output_type": "display_data"
    }
   ],
   "source": [
    "#Plot top ten teams with most  medals\n",
    "\n",
    "Teams = olympics_df.loc[gold_medals,\"Team\"].value_counts().head(10).index\n",
    "No_of_golds = olympics_df.loc[gold_medals,\"Team\"].value_counts().head(10)\n",
    "\n",
    "sns.barplot(x = No_of_golds,y = Teams)\n",
    "\n",
    "plt.title(\"Top Ten Teams with Most Medal\",fontsize = 14)\n",
    "plt.xlabel(\"No. of Medals\",fontsize = 14)\n",
    "plt.ylabel(\"Team\",fontsize = 14);\n",
    "\n",
    "\n"
   ]
  },
  {
   "cell_type": "markdown",
   "metadata": {},
   "source": [
    "### Q6: In which sport did US win most Gold medals?"
   ]
  },
  {
   "cell_type": "code",
   "execution_count": 103,
   "metadata": {
    "scrolled": true
   },
   "outputs": [
    {
     "data": {
      "text/html": [
       "<div>\n",
       "<style scoped>\n",
       "    .dataframe tbody tr th:only-of-type {\n",
       "        vertical-align: middle;\n",
       "    }\n",
       "\n",
       "    .dataframe tbody tr th {\n",
       "        vertical-align: top;\n",
       "    }\n",
       "\n",
       "    .dataframe thead th {\n",
       "        text-align: right;\n",
       "    }\n",
       "</style>\n",
       "<table border=\"1\" class=\"dataframe\">\n",
       "  <thead>\n",
       "    <tr style=\"text-align: right;\">\n",
       "      <th></th>\n",
       "      <th>Name</th>\n",
       "      <th>Sex</th>\n",
       "      <th>Age</th>\n",
       "      <th>Height</th>\n",
       "      <th>Weight</th>\n",
       "      <th>Team</th>\n",
       "      <th>NOC</th>\n",
       "      <th>Games</th>\n",
       "      <th>Year</th>\n",
       "      <th>Season</th>\n",
       "      <th>City</th>\n",
       "      <th>Sport</th>\n",
       "      <th>Event</th>\n",
       "      <th>Medal</th>\n",
       "    </tr>\n",
       "  </thead>\n",
       "  <tbody>\n",
       "    <tr>\n",
       "      <th>283</th>\n",
       "      <td>Margaret Ives Abbott (-Dunne)</td>\n",
       "      <td>F</td>\n",
       "      <td>23.0</td>\n",
       "      <td>NaN</td>\n",
       "      <td>NaN</td>\n",
       "      <td>United States</td>\n",
       "      <td>USA</td>\n",
       "      <td>1900 Summer</td>\n",
       "      <td>1900</td>\n",
       "      <td>Summer</td>\n",
       "      <td>Paris</td>\n",
       "      <td>Golf</td>\n",
       "      <td>Golf Women's Individual</td>\n",
       "      <td>Gold</td>\n",
       "    </tr>\n",
       "    <tr>\n",
       "      <th>609</th>\n",
       "      <td>Julius Shareef Abdur-Rahim</td>\n",
       "      <td>M</td>\n",
       "      <td>23.0</td>\n",
       "      <td>202.0</td>\n",
       "      <td>104.0</td>\n",
       "      <td>United States</td>\n",
       "      <td>USA</td>\n",
       "      <td>2000 Summer</td>\n",
       "      <td>2000</td>\n",
       "      <td>Summer</td>\n",
       "      <td>Sydney</td>\n",
       "      <td>Basketball</td>\n",
       "      <td>Basketball Men's Basketball</td>\n",
       "      <td>Gold</td>\n",
       "    </tr>\n",
       "    <tr>\n",
       "      <th>739</th>\n",
       "      <td>Michael Brent Abernathy</td>\n",
       "      <td>M</td>\n",
       "      <td>22.0</td>\n",
       "      <td>182.0</td>\n",
       "      <td>84.0</td>\n",
       "      <td>United States</td>\n",
       "      <td>USA</td>\n",
       "      <td>2000 Summer</td>\n",
       "      <td>2000</td>\n",
       "      <td>Summer</td>\n",
       "      <td>Sydney</td>\n",
       "      <td>Baseball</td>\n",
       "      <td>Baseball Men's Baseball</td>\n",
       "      <td>Gold</td>\n",
       "    </tr>\n",
       "  </tbody>\n",
       "</table>\n",
       "</div>"
      ],
      "text/plain": [
       "                              Name Sex   Age  Height  Weight           Team  \\\n",
       "283  Margaret Ives Abbott (-Dunne)   F  23.0     NaN     NaN  United States   \n",
       "609     Julius Shareef Abdur-Rahim   M  23.0   202.0   104.0  United States   \n",
       "739        Michael Brent Abernathy   M  22.0   182.0    84.0  United States   \n",
       "\n",
       "     NOC        Games  Year  Season    City       Sport  \\\n",
       "283  USA  1900 Summer  1900  Summer   Paris        Golf   \n",
       "609  USA  2000 Summer  2000  Summer  Sydney  Basketball   \n",
       "739  USA  2000 Summer  2000  Summer  Sydney    Baseball   \n",
       "\n",
       "                           Event Medal  \n",
       "283      Golf Women's Individual  Gold  \n",
       "609  Basketball Men's Basketball  Gold  \n",
       "739      Baseball Men's Baseball  Gold  "
      ]
     },
     "execution_count": 103,
     "metadata": {},
     "output_type": "execute_result"
    }
   ],
   "source": [
    "#Get Team USA Sport with Gold Medals\n",
    "US_gold_medals_df = olympics_df[(olympics_df[\"Medal\"] == \"Gold\") & (olympics_df.Team == \"United States\")]\n",
    "US_gold_medals_df.head(3)#View first 3 rows"
   ]
  },
  {
   "cell_type": "code",
   "execution_count": 104,
   "metadata": {},
   "outputs": [
    {
     "data": {
      "text/plain": [
       "Sport       Medal\n",
       "Swimming    Gold     645\n",
       "Athletics   Gold     537\n",
       "Basketball  Gold     281\n",
       "Rowing      Gold     160\n",
       "Shooting    Gold     117\n",
       "dtype: int64"
      ]
     },
     "execution_count": 104,
     "metadata": {},
     "output_type": "execute_result"
    }
   ],
   "source": [
    "US_gold_medals_df[[\"Sport\",\"Medal\"]].value_counts().head(5)"
   ]
  },
  {
   "cell_type": "markdown",
   "metadata": {},
   "source": [
    "### Q7: Which Sports won the most Silver medals?"
   ]
  },
  {
   "cell_type": "code",
   "execution_count": 105,
   "metadata": {},
   "outputs": [
    {
     "data": {
      "text/plain": [
       "Swimming      645\n",
       "Athletics     537\n",
       "Basketball    281\n",
       "Rowing        160\n",
       "Shooting      117\n",
       "Name: Sport, dtype: int64"
      ]
     },
     "execution_count": 105,
     "metadata": {},
     "output_type": "execute_result"
    }
   ],
   "source": [
    "#Top 5 Sports with most medals\n",
    "\n",
    "Top_five = US_gold_medals_df[\"Sport\"].value_counts().head(5)\n",
    "Top_five"
   ]
  },
  {
   "cell_type": "markdown",
   "metadata": {},
   "source": [
    "> #### Below is a bar graph representation of Top five Sports with Most Silver Medals"
   ]
  },
  {
   "cell_type": "code",
   "execution_count": 106,
   "metadata": {
    "scrolled": true
   },
   "outputs": [
    {
     "data": {
      "image/png": "[encoded data removed]",
      "text/plain": [
       "<Figure size 432x288 with 1 Axes>"
      ]
     },
     "metadata": {},
     "output_type": "display_data"
    }
   ],
   "source": [
    "#Bar graph Top 5 Sports with most silver medals\n",
    "top_five_sports = Top_five\n",
    "no_of_medals = Top_five.index\n",
    "\n",
    "sns.barplot(x = no_of_medals,y = top_five_sports)\n",
    "\n",
    "plt.title(\"Top five Sports with Most Silver Medals\",fontsize = 14)\n",
    "plt.xlabel(\"No. of Medals\",fontsize = 14)\n",
    "plt.ylabel(\"Sport\",fontsize = 14);"
   ]
  },
  {
   "cell_type": "markdown",
   "metadata": {},
   "source": [
    "### Q8: In which Athletics events did US win most gold medals?"
   ]
  },
  {
   "cell_type": "code",
   "execution_count": 107,
   "metadata": {
    "scrolled": false
   },
   "outputs": [
    {
     "data": {
      "text/plain": [
       "Athletics Men's 4 x 400 metres Relay      81\n",
       "Athletics Men's 4 x 100 metres Relay      63\n",
       "Athletics Women's 4 x 100 metres Relay    50\n",
       "Athletics Women's 4 x 400 metres Relay    38\n",
       "Athletics Men's Long Jump                 23\n",
       "Athletics Men's 400 metres                20\n",
       "Athletics Men's 110 metres Hurdles        20\n",
       "Athletics Men's 400 metres Hurdles        19\n",
       "Athletics Men's Pole Vault                19\n",
       "Athletics Men's Shot Put                  19\n",
       "Name: Event, dtype: int64"
      ]
     },
     "execution_count": 107,
     "metadata": {},
     "output_type": "execute_result"
    }
   ],
   "source": [
    "US_Athletics_gold = US_gold_medals_df[\"Sport\"] == \"Athletics\"\n",
    "\n",
    "US_golds = US_gold_medals_df.loc[US_Athletics_gold,\"Event\"].value_counts().head(10)\n",
    "US_golds"
   ]
  },
  {
   "cell_type": "markdown",
   "metadata": {},
   "source": [
    "> #### Below is a horizontal bar graph representation of Team USA top ten athletic events with the most Gold medals"
   ]
  },
  {
   "cell_type": "code",
   "execution_count": 108,
   "metadata": {},
   "outputs": [
    {
     "data": {
      "image/png": "[encoded data removed]",
      "text/plain": [
       "<Figure size 432x288 with 1 Axes>"
      ]
     },
     "metadata": {},
     "output_type": "display_data"
    }
   ],
   "source": [
    "Golden_Events = US_gold_medals_df.loc[US_Athletics_gold,\"Event\"].value_counts().head(10).index\n",
    "No_of_golds = US_gold_medals_df.loc[US_Athletics_gold,\"Event\"].value_counts().head(10)\n",
    "\n",
    "sns.barplot(x = No_of_golds,y =Golden_Events);\n",
    "plt.title(\"Team USA top ten events with the most Gold medals\",fontsize = 14)\n",
    "plt.xlabel(\"No. of Gold Medals\",fontsize = 14)\n",
    "plt.ylabel(\"Event\",fontsize = 14);"
   ]
  },
  {
   "cell_type": "markdown",
   "metadata": {},
   "source": [
    "### Q9: Which teams won the most silver medals?"
   ]
  },
  {
   "cell_type": "code",
   "execution_count": 109,
   "metadata": {},
   "outputs": [],
   "source": [
    "#Silver medals\n",
    "\n",
    "silver_medals = olympics_df[\"Medal\"] == \"Silver\""
   ]
  },
  {
   "cell_type": "code",
   "execution_count": 110,
   "metadata": {
    "scrolled": false
   },
   "outputs": [
    {
     "data": {
      "text/plain": [
       "United States                   1512\n",
       "Soviet Union                     716\n",
       "Germany                          627\n",
       "Great Britain                    582\n",
       "France                           518\n",
       "                                ... \n",
       "Israel                             1\n",
       "Netherlands Antilles               1\n",
       "Costa Rica                         1\n",
       "United States Virgin Islands       1\n",
       "England                            1\n",
       "Name: Team, Length: 273, dtype: int64"
      ]
     },
     "execution_count": 110,
     "metadata": {},
     "output_type": "execute_result"
    }
   ],
   "source": [
    "#Nation with most silver medals\n",
    "olympics_df.loc[silver_medals,\"Team\"].value_counts()"
   ]
  },
  {
   "cell_type": "markdown",
   "metadata": {},
   "source": [
    "* Team USA has also won the most silver medals"
   ]
  },
  {
   "cell_type": "markdown",
   "metadata": {},
   "source": [
    "### Q10: In  which sport did US win most  silver medals?"
   ]
  },
  {
   "cell_type": "code",
   "execution_count": 111,
   "metadata": {
    "scrolled": true
   },
   "outputs": [
    {
     "data": {
      "text/html": [
       "<div>\n",
       "<style scoped>\n",
       "    .dataframe tbody tr th:only-of-type {\n",
       "        vertical-align: middle;\n",
       "    }\n",
       "\n",
       "    .dataframe tbody tr th {\n",
       "        vertical-align: top;\n",
       "    }\n",
       "\n",
       "    .dataframe thead th {\n",
       "        text-align: right;\n",
       "    }\n",
       "</style>\n",
       "<table border=\"1\" class=\"dataframe\">\n",
       "  <thead>\n",
       "    <tr style=\"text-align: right;\">\n",
       "      <th></th>\n",
       "      <th>Name</th>\n",
       "      <th>Sex</th>\n",
       "      <th>Age</th>\n",
       "      <th>Height</th>\n",
       "      <th>Weight</th>\n",
       "      <th>Team</th>\n",
       "      <th>NOC</th>\n",
       "      <th>Games</th>\n",
       "      <th>Year</th>\n",
       "      <th>Season</th>\n",
       "      <th>City</th>\n",
       "      <th>Sport</th>\n",
       "      <th>Event</th>\n",
       "      <th>Medal</th>\n",
       "    </tr>\n",
       "  </thead>\n",
       "  <tbody>\n",
       "    <tr>\n",
       "      <th>186</th>\n",
       "      <td>Stephen Anthony Abas</td>\n",
       "      <td>M</td>\n",
       "      <td>26.0</td>\n",
       "      <td>165.0</td>\n",
       "      <td>55.0</td>\n",
       "      <td>United States</td>\n",
       "      <td>USA</td>\n",
       "      <td>2004 Summer</td>\n",
       "      <td>2004</td>\n",
       "      <td>Summer</td>\n",
       "      <td>Athina</td>\n",
       "      <td>Wrestling</td>\n",
       "      <td>Wrestling Men's Featherweight, Freestyle</td>\n",
       "      <td>Silver</td>\n",
       "    </tr>\n",
       "    <tr>\n",
       "      <th>286</th>\n",
       "      <td>Monica Cecilia Abbott</td>\n",
       "      <td>F</td>\n",
       "      <td>23.0</td>\n",
       "      <td>191.0</td>\n",
       "      <td>88.0</td>\n",
       "      <td>United States</td>\n",
       "      <td>USA</td>\n",
       "      <td>2008 Summer</td>\n",
       "      <td>2008</td>\n",
       "      <td>Summer</td>\n",
       "      <td>Beijing</td>\n",
       "      <td>Softball</td>\n",
       "      <td>Softball Women's Softball</td>\n",
       "      <td>Silver</td>\n",
       "    </tr>\n",
       "    <tr>\n",
       "      <th>311</th>\n",
       "      <td>Nia Nicole Abdallah</td>\n",
       "      <td>F</td>\n",
       "      <td>20.0</td>\n",
       "      <td>175.0</td>\n",
       "      <td>56.0</td>\n",
       "      <td>United States</td>\n",
       "      <td>USA</td>\n",
       "      <td>2004 Summer</td>\n",
       "      <td>2004</td>\n",
       "      <td>Summer</td>\n",
       "      <td>Athina</td>\n",
       "      <td>Taekwondo</td>\n",
       "      <td>Taekwondo Women's Featherweight</td>\n",
       "      <td>Silver</td>\n",
       "    </tr>\n",
       "  </tbody>\n",
       "</table>\n",
       "</div>"
      ],
      "text/plain": [
       "                      Name Sex   Age  Height  Weight           Team  NOC  \\\n",
       "186   Stephen Anthony Abas   M  26.0   165.0    55.0  United States  USA   \n",
       "286  Monica Cecilia Abbott   F  23.0   191.0    88.0  United States  USA   \n",
       "311    Nia Nicole Abdallah   F  20.0   175.0    56.0  United States  USA   \n",
       "\n",
       "           Games  Year  Season     City      Sport  \\\n",
       "186  2004 Summer  2004  Summer   Athina  Wrestling   \n",
       "286  2008 Summer  2008  Summer  Beijing   Softball   \n",
       "311  2004 Summer  2004  Summer   Athina  Taekwondo   \n",
       "\n",
       "                                        Event   Medal  \n",
       "186  Wrestling Men's Featherweight, Freestyle  Silver  \n",
       "286                 Softball Women's Softball  Silver  \n",
       "311           Taekwondo Women's Featherweight  Silver  "
      ]
     },
     "execution_count": 111,
     "metadata": {},
     "output_type": "execute_result"
    }
   ],
   "source": [
    "#Single out the team with most silver medals\n",
    "\n",
    "US_Silver_medals_df = olympics_df[(olympics_df[\"Medal\"] == \"Silver\") & (olympics_df.Team == \"United States\")]\n",
    "US_Silver_medals_df.head(3) #View first 3 rows"
   ]
  },
  {
   "cell_type": "code",
   "execution_count": 112,
   "metadata": {
    "scrolled": true
   },
   "outputs": [
    {
     "data": {
      "text/plain": [
       "Athletics     313\n",
       "Swimming      250\n",
       "Ice Hockey    189\n",
       "Name: Sport, dtype: int64"
      ]
     },
     "execution_count": 112,
     "metadata": {},
     "output_type": "execute_result"
    }
   ],
   "source": [
    "US_Silver_medals_df[\"Sport\"].value_counts().head(3)"
   ]
  },
  {
   "cell_type": "markdown",
   "metadata": {},
   "source": [
    "* US won most silver medals in athletics\n"
   ]
  },
  {
   "cell_type": "markdown",
   "metadata": {},
   "source": [
    "> #### Below is a line graph representation of US olympians silver  medalists weights."
   ]
  },
  {
   "cell_type": "code",
   "execution_count": 113,
   "metadata": {
    "scrolled": true
   },
   "outputs": [
    {
     "data": {
      "image/png": "[encoded data removed]",
      "text/plain": [
       "<Figure size 432x288 with 1 Axes>"
      ]
     },
     "metadata": {},
     "output_type": "display_data"
    }
   ],
   "source": [
    "#US Silver  medalists Weight through  out the olympics \n",
    "\n",
    "sns.lineplot(x = \"Year\",y = \"Weight\",data = US_Silver_medals_df, marker = \"*\")\n",
    "plt.title(\"Silver Medalists Weight\");\n"
   ]
  },
  {
   "cell_type": "markdown",
   "metadata": {},
   "source": [
    "* It  would be interesting to find out why the weights  went so low around the years 1980 and 2000"
   ]
  },
  {
   "cell_type": "markdown",
   "metadata": {},
   "source": [
    "### Q11: In which athletic events did US win most Silver medals?"
   ]
  },
  {
   "cell_type": "code",
   "execution_count": 114,
   "metadata": {
    "scrolled": false
   },
   "outputs": [
    {
     "data": {
      "text/plain": [
       "Athletics Men's 110 metres Hurdles        20\n",
       "Athletics Women's 4 x 400 metres Relay    20\n",
       "Athletics Men's Shot Put                  20\n",
       "Athletics Men's 200 metres                18\n",
       "Athletics Men's Long Jump                 15\n",
       "Athletics Men's 100 metres                15\n",
       "Athletics Men's Pole Vault                14\n",
       "Athletics Men's High Jump                 14\n",
       "Athletics Men's 4 x 400 metres Relay      13\n",
       "Athletics Men's 400 metres                13\n",
       "Name: Event, dtype: int64"
      ]
     },
     "execution_count": 114,
     "metadata": {},
     "output_type": "execute_result"
    }
   ],
   "source": [
    "US_Athletics = US_Silver_medals_df[\"Sport\"] == \"Athletics\"\n",
    "\n",
    "US_Silver_medals_df.loc[US_Athletics,\"Event\"].value_counts().head(10)"
   ]
  },
  {
   "cell_type": "markdown",
   "metadata": {},
   "source": [
    "* Team US mostly got more silver medals in short races track events"
   ]
  },
  {
   "cell_type": "markdown",
   "metadata": {},
   "source": [
    "### Conclusion\n",
    "\n",
    "* If the data had Time Series it would have been even more helpful since that would have helped filter out olympics world records.\n",
    "* There is need to find out why the number of participating olympians started to sharply fluctuate from around the year 2000.\n",
    "* There is need to find  out why online sources do not note **John Quincy Adams Ward** as the oldest olympian.\n",
    "> Our analysis has shown that **John Quincy Adams Ward** did not win any medal,that might be why most sources  note **Oscar Swahn of Sweden** as the oldest olympian.There is need to specify that **Oscar Swahn of Sweden** is deemed so because he is the oldest olympics gold medalist.__[Click here to read artilce](http://www.guinnessworldrecords.com/world-records/oldest-olympic-gold-medallist)__\n",
    "* The top medalist in olympics history is **Michael Fred Phelps** who partcipated in swimming events.\n",
    "> * Based on the success of Michael Phelps, olympians need to know that to have a better performance in swimming events olympians need to watch their weight.Michael Phelps had the same weight in all olympic events.\n",
    "* Team United States has maximised its medals on short races track events and more especially relays.For better perfromances in relays those responsible need to bench mark with United States teams.\n",
    "\n",
    "* Team United States has had the highest participants in olympics and the highest number of Gold Medalists.They have also topped  the table when it comes to silver medals.\n",
    "* There is much that can be expolored in this data to answer even more interesting questions.\n",
    "> 1. One can filter out their countrys olympic team and anlalyse the data.\n",
    "> 1. One can filter out their countrys olympic team and anlalyse the data.\n",
    "> 1. One can filter out a specific age and analyse the data to find out the best age for medal winning olympians.\n",
    "\n",
    "\n",
    "\n",
    "#### References and Further reading.\n",
    "* Forbes : How Data Analysis In Sports Is Changing The Game http://www.forbes.com/sites/forbestechcouncil/2019/01/31/how-data-analysis-in-sports-is-changing-the-game/?sh=1d95503d3f7b\n",
    "* Guinness World Records: Oldest Olympic gold medalist https://www.guinnessworldrecords.com/world-records/oldest-olympic-gold-medallist\n",
    "> * Pandas user guide: https://pandas.pydata.org/docs/user_guide/index.html\n",
    "> * Matplotlib user guide: https://matplotlib.org/3.3.1/users/index.html\n",
    "> * Seaborn user guide & tutorial: https://seaborn.pydata.org/tutorial.html\n",
    "  \n",
    "\n"
   ]
  },
  {
   "cell_type": "code",
   "execution_count": 117,
   "metadata": {},
   "outputs": [
    {
     "data": {
      "application/javascript": [
       "window.require && require([\"base/js/namespace\"],function(Jupyter){Jupyter.notebook.save_checkpoint()})"
      ],
      "text/plain": [
       "<IPython.core.display.Javascript object>"
      ]
     },
     "metadata": {},
     "output_type": "display_data"
    },
    {
     "name": "stdout",
     "output_type": "stream",
     "text": [
      "[jovian] Updating notebook \"everndah/olympic-history-athletes-and-results-analysis\" on https://jovian.ai\u001b[0m\n",
      "[jovian] Committed successfully! https://jovian.ai/everndah/olympic-history-athletes-and-results-analysis\u001b[0m\n"
     ]
    },
    {
     "data": {
      "text/plain": [
       "'https://jovian.ai/everndah/olympic-history-athletes-and-results-analysis'"
      ]
     },
     "execution_count": 117,
     "metadata": {},
     "output_type": "execute_result"
    }
   ],
   "source": [
    "# Execute this to save new versions of the notebook\n",
    "jovian.commit(project=\"olympic-history-athletes-and-results-analysis\")"
   ]
  },
  {
   "cell_type": "code",
   "execution_count": null,
   "metadata": {},
   "outputs": [],
   "source": []
  }
 ],
 "metadata": {
  "kernelspec": {
   "display_name": "Python 3",
   "language": "python",
   "name": "python3"
  },
  "language_info": {
   "codemirror_mode": {
    "name": "ipython",
    "version": 3
   },
   "file_extension": ".py",
   "mimetype": "text/x-python",
   "name": "python",
   "nbconvert_exporter": "python",
   "pygments_lexer": "ipython3",
   "version": "3.9.5"
  }
 },
 "nbformat": 4,
 "nbformat_minor": 2
}
